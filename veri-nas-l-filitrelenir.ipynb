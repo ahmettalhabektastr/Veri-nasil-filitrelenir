{
 "cells": [
  {
   "cell_type": "markdown",
   "id": "22e04853",
   "metadata": {
    "_cell_guid": "b1076dfc-b9ad-4769-8c92-a6c4dae69d19",
    "_uuid": "8f2839f25d086af736a60e9eeb907d3b93b6e0e5",
    "papermill": {
     "duration": 0.017911,
     "end_time": "2023-01-19T11:57:51.307328",
     "exception": false,
     "start_time": "2023-01-19T11:57:51.289417",
     "status": "completed"
    },
    "tags": []
   },
   "source": [
    "### **5 dakika içinde veriler nasıl filitreleneri öğrenin!**"
   ]
  },
  {
   "cell_type": "markdown",
   "id": "4efbfc2f",
   "metadata": {
    "papermill": {
     "duration": 0.016436,
     "end_time": "2023-01-19T11:57:51.339606",
     "exception": false,
     "start_time": "2023-01-19T11:57:51.323170",
     "status": "completed"
    },
    "tags": []
   },
   "source": [
    "![](https://miro.medium.com/max/1400/0*LLbrg6Gicb6JxQve)"
   ]
  },
  {
   "cell_type": "markdown",
   "id": "80ba3be6",
   "metadata": {
    "papermill": {
     "duration": 0.016036,
     "end_time": "2023-01-19T11:57:51.373086",
     "exception": false,
     "start_time": "2023-01-19T11:57:51.357050",
     "status": "completed"
    },
    "tags": []
   },
   "source": [
    " [Unsplash](https://unsplash.com/?utm_source=medium&utm_medium=referral)'de [Adam Jaime](https://unsplash.com/@arobj?utm_source=medium&utm_medium=referral) tarafından bir fotoğraf"
   ]
  },
  {
   "cell_type": "markdown",
   "id": "d7767a50",
   "metadata": {
    "papermill": {
     "duration": 0.015656,
     "end_time": "2023-01-19T11:57:51.405042",
     "exception": false,
     "start_time": "2023-01-19T11:57:51.389386",
     "status": "completed"
    },
    "tags": []
   },
   "source": [
    "## İçindekiler\n",
    "- **Belirli sütunları seçme**\n",
    "- **Belirli sütunları ve satırları seçme**\n",
    "- **Bir sütundaki verileri sıralama**\n",
    "- **Bir sütundaki verilerin ne kadar geçtiğini hesaplama**\n",
    "- **Bir sütunda geçen benzersiz değerleri bulmak**\n",
    "- **Bir sütunda geçen benzersiz değerlerin sayısını bulmak**\n",
    "- **İki sütunu karşılaştırmak**\n",
    "- **Sütunların içindeki belli değerlere göre filitreleme**"
   ]
  },
  {
   "cell_type": "markdown",
   "id": "88fbfbcb",
   "metadata": {
    "papermill": {
     "duration": 0.016394,
     "end_time": "2023-01-19T11:57:51.437212",
     "exception": false,
     "start_time": "2023-01-19T11:57:51.420818",
     "status": "completed"
    },
    "tags": []
   },
   "source": [
    "> **Veri filitreleme, veri bilimciler için en önemli konulardan birirdir. Her gün sayısızca veri üretiliyor fakat sizin projeniz için bu verilerin hepsi önemli olmayabilir.**\n",
    "\n",
    "> **İşte bu noktada, Verilierimizi filitrelememiz gerekiyor!**"
   ]
  },
  {
   "cell_type": "markdown",
   "id": "5f6b1d07",
   "metadata": {
    "papermill": {
     "duration": 0.017047,
     "end_time": "2023-01-19T11:57:51.471672",
     "exception": false,
     "start_time": "2023-01-19T11:57:51.454625",
     "status": "completed"
    },
    "tags": []
   },
   "source": [
    "## **Hadi başlayalım**"
   ]
  },
  {
   "cell_type": "markdown",
   "id": "4999b149",
   "metadata": {
    "papermill": {
     "duration": 0.018271,
     "end_time": "2023-01-19T11:57:51.506248",
     "exception": false,
     "start_time": "2023-01-19T11:57:51.487977",
     "status": "completed"
    },
    "tags": []
   },
   "source": [
    "İlk olarak, veri setimizi okuyalım. Eğer verileri okumayı bilmiyorsanız, [bu yazıyı](https://medium.com/@ahmettalhabektas_tr/veri-d%C3%BCnyas%C4%B1na-i%CC%87lk-ad%C4%B1mlar-3044f0d42170) veya [bu notebooku](https://www.kaggle.com/code/ahmettalhabektastr/veri-d-nyas-na-lk-ad-mlar) okumalısınız."
   ]
  },
  {
   "cell_type": "markdown",
   "id": "7b03598c",
   "metadata": {
    "papermill": {
     "duration": 0.014944,
     "end_time": "2023-01-19T11:57:51.537166",
     "exception": false,
     "start_time": "2023-01-19T11:57:51.522222",
     "status": "completed"
    },
    "tags": []
   },
   "source": [
    "### ***Gerekli kütüphaneleri import edelim***"
   ]
  },
  {
   "cell_type": "code",
   "execution_count": 1,
   "id": "ff26bd67",
   "metadata": {
    "execution": {
     "iopub.execute_input": "2023-01-19T11:57:51.571459Z",
     "iopub.status.busy": "2023-01-19T11:57:51.571002Z",
     "iopub.status.idle": "2023-01-19T11:57:51.583906Z",
     "shell.execute_reply": "2023-01-19T11:57:51.582349Z"
    },
    "papermill": {
     "duration": 0.032722,
     "end_time": "2023-01-19T11:57:51.586728",
     "exception": false,
     "start_time": "2023-01-19T11:57:51.554006",
     "status": "completed"
    },
    "tags": []
   },
   "outputs": [],
   "source": [
    "import pandas as pd"
   ]
  },
  {
   "cell_type": "markdown",
   "id": "664186d9",
   "metadata": {
    "papermill": {
     "duration": 0.016173,
     "end_time": "2023-01-19T11:57:51.618825",
     "exception": false,
     "start_time": "2023-01-19T11:57:51.602652",
     "status": "completed"
    },
    "tags": []
   },
   "source": [
    "### ***Verimizi okuyalım***"
   ]
  },
  {
   "cell_type": "code",
   "execution_count": 2,
   "id": "deee7080",
   "metadata": {
    "execution": {
     "iopub.execute_input": "2023-01-19T11:57:51.652986Z",
     "iopub.status.busy": "2023-01-19T11:57:51.651832Z",
     "iopub.status.idle": "2023-01-19T11:57:51.705344Z",
     "shell.execute_reply": "2023-01-19T11:57:51.704225Z"
    },
    "papermill": {
     "duration": 0.074051,
     "end_time": "2023-01-19T11:57:51.708694",
     "exception": false,
     "start_time": "2023-01-19T11:57:51.634643",
     "status": "completed"
    },
    "tags": []
   },
   "outputs": [
    {
     "data": {
      "text/html": [
       "<div>\n",
       "<style scoped>\n",
       "    .dataframe tbody tr th:only-of-type {\n",
       "        vertical-align: middle;\n",
       "    }\n",
       "\n",
       "    .dataframe tbody tr th {\n",
       "        vertical-align: top;\n",
       "    }\n",
       "\n",
       "    .dataframe thead th {\n",
       "        text-align: right;\n",
       "    }\n",
       "</style>\n",
       "<table border=\"1\" class=\"dataframe\">\n",
       "  <thead>\n",
       "    <tr style=\"text-align: right;\">\n",
       "      <th></th>\n",
       "      <th>PassengerId</th>\n",
       "      <th>Survived</th>\n",
       "      <th>Pclass</th>\n",
       "      <th>Name</th>\n",
       "      <th>Sex</th>\n",
       "      <th>Age</th>\n",
       "      <th>SibSp</th>\n",
       "      <th>Parch</th>\n",
       "      <th>Ticket</th>\n",
       "      <th>Fare</th>\n",
       "      <th>Cabin</th>\n",
       "      <th>Embarked</th>\n",
       "    </tr>\n",
       "  </thead>\n",
       "  <tbody>\n",
       "    <tr>\n",
       "      <th>0</th>\n",
       "      <td>1</td>\n",
       "      <td>0</td>\n",
       "      <td>3</td>\n",
       "      <td>Braund, Mr. Owen Harris</td>\n",
       "      <td>male</td>\n",
       "      <td>22.0</td>\n",
       "      <td>1</td>\n",
       "      <td>0</td>\n",
       "      <td>A/5 21171</td>\n",
       "      <td>7.2500</td>\n",
       "      <td>NaN</td>\n",
       "      <td>S</td>\n",
       "    </tr>\n",
       "    <tr>\n",
       "      <th>1</th>\n",
       "      <td>2</td>\n",
       "      <td>1</td>\n",
       "      <td>1</td>\n",
       "      <td>Cumings, Mrs. John Bradley (Florence Briggs Th...</td>\n",
       "      <td>female</td>\n",
       "      <td>38.0</td>\n",
       "      <td>1</td>\n",
       "      <td>0</td>\n",
       "      <td>PC 17599</td>\n",
       "      <td>71.2833</td>\n",
       "      <td>C85</td>\n",
       "      <td>C</td>\n",
       "    </tr>\n",
       "    <tr>\n",
       "      <th>2</th>\n",
       "      <td>3</td>\n",
       "      <td>1</td>\n",
       "      <td>3</td>\n",
       "      <td>Heikkinen, Miss. Laina</td>\n",
       "      <td>female</td>\n",
       "      <td>26.0</td>\n",
       "      <td>0</td>\n",
       "      <td>0</td>\n",
       "      <td>STON/O2. 3101282</td>\n",
       "      <td>7.9250</td>\n",
       "      <td>NaN</td>\n",
       "      <td>S</td>\n",
       "    </tr>\n",
       "    <tr>\n",
       "      <th>3</th>\n",
       "      <td>4</td>\n",
       "      <td>1</td>\n",
       "      <td>1</td>\n",
       "      <td>Futrelle, Mrs. Jacques Heath (Lily May Peel)</td>\n",
       "      <td>female</td>\n",
       "      <td>35.0</td>\n",
       "      <td>1</td>\n",
       "      <td>0</td>\n",
       "      <td>113803</td>\n",
       "      <td>53.1000</td>\n",
       "      <td>C123</td>\n",
       "      <td>S</td>\n",
       "    </tr>\n",
       "    <tr>\n",
       "      <th>4</th>\n",
       "      <td>5</td>\n",
       "      <td>0</td>\n",
       "      <td>3</td>\n",
       "      <td>Allen, Mr. William Henry</td>\n",
       "      <td>male</td>\n",
       "      <td>35.0</td>\n",
       "      <td>0</td>\n",
       "      <td>0</td>\n",
       "      <td>373450</td>\n",
       "      <td>8.0500</td>\n",
       "      <td>NaN</td>\n",
       "      <td>S</td>\n",
       "    </tr>\n",
       "  </tbody>\n",
       "</table>\n",
       "</div>"
      ],
      "text/plain": [
       "   PassengerId  Survived  Pclass  \\\n",
       "0            1         0       3   \n",
       "1            2         1       1   \n",
       "2            3         1       3   \n",
       "3            4         1       1   \n",
       "4            5         0       3   \n",
       "\n",
       "                                                Name     Sex   Age  SibSp  \\\n",
       "0                            Braund, Mr. Owen Harris    male  22.0      1   \n",
       "1  Cumings, Mrs. John Bradley (Florence Briggs Th...  female  38.0      1   \n",
       "2                             Heikkinen, Miss. Laina  female  26.0      0   \n",
       "3       Futrelle, Mrs. Jacques Heath (Lily May Peel)  female  35.0      1   \n",
       "4                           Allen, Mr. William Henry    male  35.0      0   \n",
       "\n",
       "   Parch            Ticket     Fare Cabin Embarked  \n",
       "0      0         A/5 21171   7.2500   NaN        S  \n",
       "1      0          PC 17599  71.2833   C85        C  \n",
       "2      0  STON/O2. 3101282   7.9250   NaN        S  \n",
       "3      0            113803  53.1000  C123        S  \n",
       "4      0            373450   8.0500   NaN        S  "
      ]
     },
     "execution_count": 2,
     "metadata": {},
     "output_type": "execute_result"
    }
   ],
   "source": [
    "df=pd.read_csv(\"../input/titanic/train.csv\")\n",
    "df.head()"
   ]
  },
  {
   "cell_type": "markdown",
   "id": "4c05b4d5",
   "metadata": {
    "papermill": {
     "duration": 0.01582,
     "end_time": "2023-01-19T11:57:51.740662",
     "exception": false,
     "start_time": "2023-01-19T11:57:51.724842",
     "status": "completed"
    },
    "tags": []
   },
   "source": [
    "# Belirli sütunları seçme"
   ]
  },
  {
   "cell_type": "markdown",
   "id": "5c54b8c1",
   "metadata": {
    "papermill": {
     "duration": 0.01527,
     "end_time": "2023-01-19T11:57:51.773261",
     "exception": false,
     "start_time": "2023-01-19T11:57:51.757991",
     "status": "completed"
    },
    "tags": []
   },
   "source": [
    "> ### ***df[\"sütun_ismi\"]***"
   ]
  },
  {
   "cell_type": "markdown",
   "id": "09a4530d",
   "metadata": {
    "papermill": {
     "duration": 0.016305,
     "end_time": "2023-01-19T11:57:51.805219",
     "exception": false,
     "start_time": "2023-01-19T11:57:51.788914",
     "status": "completed"
    },
    "tags": []
   },
   "source": [
    "Eğer yalnızca bir sütuna bakmak istiyorsanız bu şekilde kullanabilirsiniz: **df[\"sütun_ismi\"]** ."
   ]
  },
  {
   "cell_type": "markdown",
   "id": "b1e1708f",
   "metadata": {
    "papermill": {
     "duration": 0.01571,
     "end_time": "2023-01-19T11:57:51.836764",
     "exception": false,
     "start_time": "2023-01-19T11:57:51.821054",
     "status": "completed"
    },
    "tags": []
   },
   "source": [
    "#### ***Hadi örnek yapalım!***"
   ]
  },
  {
   "cell_type": "code",
   "execution_count": 3,
   "id": "5e2dbdc7",
   "metadata": {
    "execution": {
     "iopub.execute_input": "2023-01-19T11:57:51.871415Z",
     "iopub.status.busy": "2023-01-19T11:57:51.870891Z",
     "iopub.status.idle": "2023-01-19T11:57:51.887535Z",
     "shell.execute_reply": "2023-01-19T11:57:51.886026Z"
    },
    "papermill": {
     "duration": 0.03651,
     "end_time": "2023-01-19T11:57:51.889966",
     "exception": false,
     "start_time": "2023-01-19T11:57:51.853456",
     "status": "completed"
    },
    "tags": []
   },
   "outputs": [
    {
     "data": {
      "text/plain": [
       "0        male\n",
       "1      female\n",
       "2      female\n",
       "3      female\n",
       "4        male\n",
       "        ...  \n",
       "886      male\n",
       "887    female\n",
       "888    female\n",
       "889      male\n",
       "890      male\n",
       "Name: Sex, Length: 891, dtype: object"
      ]
     },
     "execution_count": 3,
     "metadata": {},
     "output_type": "execute_result"
    }
   ],
   "source": [
    "df[\"Sex\"]"
   ]
  },
  {
   "cell_type": "markdown",
   "id": "9b9fd93c",
   "metadata": {
    "papermill": {
     "duration": 0.016115,
     "end_time": "2023-01-19T11:57:51.922496",
     "exception": false,
     "start_time": "2023-01-19T11:57:51.906381",
     "status": "completed"
    },
    "tags": []
   },
   "source": [
    "Veya böyle kullanabiliriz: **df.sütun_ismi** fakat sütun isminde her hangi bir boşluk olmaması gerekir. Yani eğer sütün isminiz *\"arabanin yasi\"* ise ***df.arabanin yasi*** şeklinde kullanamazsınız ancak sütun isminiz *\"arabanin_yasi\"* şeklinde ise o zmn **df.arabanin_yasi** şeklinde kullanılarbilir."
   ]
  },
  {
   "cell_type": "markdown",
   "id": "96d9f8a4",
   "metadata": {
    "papermill": {
     "duration": 0.01548,
     "end_time": "2023-01-19T11:57:51.954331",
     "exception": false,
     "start_time": "2023-01-19T11:57:51.938851",
     "status": "completed"
    },
    "tags": []
   },
   "source": [
    "#### ***Hadi örnek yapalım!***"
   ]
  },
  {
   "cell_type": "code",
   "execution_count": 4,
   "id": "f7cfae5b",
   "metadata": {
    "execution": {
     "iopub.execute_input": "2023-01-19T11:57:51.988174Z",
     "iopub.status.busy": "2023-01-19T11:57:51.987119Z",
     "iopub.status.idle": "2023-01-19T11:57:51.995961Z",
     "shell.execute_reply": "2023-01-19T11:57:51.995094Z"
    },
    "papermill": {
     "duration": 0.028727,
     "end_time": "2023-01-19T11:57:51.998747",
     "exception": false,
     "start_time": "2023-01-19T11:57:51.970020",
     "status": "completed"
    },
    "tags": []
   },
   "outputs": [
    {
     "data": {
      "text/plain": [
       "0        male\n",
       "1      female\n",
       "2      female\n",
       "3      female\n",
       "4        male\n",
       "        ...  \n",
       "886      male\n",
       "887    female\n",
       "888    female\n",
       "889      male\n",
       "890      male\n",
       "Name: Sex, Length: 891, dtype: object"
      ]
     },
     "execution_count": 4,
     "metadata": {},
     "output_type": "execute_result"
    }
   ],
   "source": [
    "df.Sex"
   ]
  },
  {
   "cell_type": "markdown",
   "id": "156a3f49",
   "metadata": {
    "papermill": {
     "duration": 0.01553,
     "end_time": "2023-01-19T11:57:52.030728",
     "exception": false,
     "start_time": "2023-01-19T11:57:52.015198",
     "status": "completed"
    },
    "tags": []
   },
   "source": [
    " **EDA**'da kullandığımız bütün fonksiyonları burada da kullanabilirsiniz. **EDA** ile tanışmadıysanız [bu yazımı](https://medium.com/@ahmettalhabektas_tr/yeni-arkada%C5%9F%C4%B1m%C4%B1z-eda-ff753db4b187) veya [bu notebooku](https://www.kaggle.com/code/ahmettalhabektastr/yeni-arkada-m-z-eda) okumanızı tavsiye ediyorum."
   ]
  },
  {
   "cell_type": "markdown",
   "id": "4c6922a0",
   "metadata": {
    "papermill": {
     "duration": 0.015525,
     "end_time": "2023-01-19T11:57:52.062916",
     "exception": false,
     "start_time": "2023-01-19T11:57:52.047391",
     "status": "completed"
    },
    "tags": []
   },
   "source": [
    "#### ***Hadi örnek yapalım!***"
   ]
  },
  {
   "cell_type": "code",
   "execution_count": 5,
   "id": "79805959",
   "metadata": {
    "execution": {
     "iopub.execute_input": "2023-01-19T11:57:52.097504Z",
     "iopub.status.busy": "2023-01-19T11:57:52.097067Z",
     "iopub.status.idle": "2023-01-19T11:57:52.108078Z",
     "shell.execute_reply": "2023-01-19T11:57:52.106445Z"
    },
    "papermill": {
     "duration": 0.031243,
     "end_time": "2023-01-19T11:57:52.110460",
     "exception": false,
     "start_time": "2023-01-19T11:57:52.079217",
     "status": "completed"
    },
    "tags": []
   },
   "outputs": [
    {
     "data": {
      "text/plain": [
       "0      male\n",
       "1    female\n",
       "2    female\n",
       "3    female\n",
       "4      male\n",
       "Name: Sex, dtype: object"
      ]
     },
     "execution_count": 5,
     "metadata": {},
     "output_type": "execute_result"
    }
   ],
   "source": [
    "df[\"Sex\"].head()"
   ]
  },
  {
   "cell_type": "code",
   "execution_count": 6,
   "id": "578c4629",
   "metadata": {
    "execution": {
     "iopub.execute_input": "2023-01-19T11:57:52.145123Z",
     "iopub.status.busy": "2023-01-19T11:57:52.144124Z",
     "iopub.status.idle": "2023-01-19T11:57:52.152950Z",
     "shell.execute_reply": "2023-01-19T11:57:52.151821Z"
    },
    "papermill": {
     "duration": 0.028856,
     "end_time": "2023-01-19T11:57:52.155302",
     "exception": false,
     "start_time": "2023-01-19T11:57:52.126446",
     "status": "completed"
    },
    "tags": []
   },
   "outputs": [
    {
     "data": {
      "text/plain": [
       "886      male\n",
       "887    female\n",
       "888    female\n",
       "889      male\n",
       "890      male\n",
       "Name: Sex, dtype: object"
      ]
     },
     "execution_count": 6,
     "metadata": {},
     "output_type": "execute_result"
    }
   ],
   "source": [
    "df.Sex.tail()"
   ]
  },
  {
   "cell_type": "markdown",
   "id": "c84b484e",
   "metadata": {
    "papermill": {
     "duration": 0.015844,
     "end_time": "2023-01-19T11:57:52.187744",
     "exception": false,
     "start_time": "2023-01-19T11:57:52.171900",
     "status": "completed"
    },
    "tags": []
   },
   "source": [
    "> ### *df[[“column_name1”, “column_name2”, “column_name3”]]*"
   ]
  },
  {
   "cell_type": "markdown",
   "id": "6ad0d320",
   "metadata": {
    "papermill": {
     "duration": 0.017216,
     "end_time": "2023-01-19T11:57:52.221307",
     "exception": false,
     "start_time": "2023-01-19T11:57:52.204091",
     "status": "completed"
    },
    "tags": []
   },
   "source": [
    "Eğer birden fazla sütun ismine bakıcaksanız, şöyle kullanabilirsiniz: **df[[\"sütun_ismi_1\", \"sütun_ismi_2\", \"sütun_ismi_3\"]]**. İki tane köşeli parantez olduğuna dikkat edin!"
   ]
  },
  {
   "cell_type": "code",
   "execution_count": 7,
   "id": "874cc597",
   "metadata": {
    "execution": {
     "iopub.execute_input": "2023-01-19T11:57:52.256915Z",
     "iopub.status.busy": "2023-01-19T11:57:52.256477Z",
     "iopub.status.idle": "2023-01-19T11:57:52.279194Z",
     "shell.execute_reply": "2023-01-19T11:57:52.277607Z"
    },
    "papermill": {
     "duration": 0.044274,
     "end_time": "2023-01-19T11:57:52.281560",
     "exception": false,
     "start_time": "2023-01-19T11:57:52.237286",
     "status": "completed"
    },
    "tags": []
   },
   "outputs": [
    {
     "data": {
      "text/html": [
       "<div>\n",
       "<style scoped>\n",
       "    .dataframe tbody tr th:only-of-type {\n",
       "        vertical-align: middle;\n",
       "    }\n",
       "\n",
       "    .dataframe tbody tr th {\n",
       "        vertical-align: top;\n",
       "    }\n",
       "\n",
       "    .dataframe thead th {\n",
       "        text-align: right;\n",
       "    }\n",
       "</style>\n",
       "<table border=\"1\" class=\"dataframe\">\n",
       "  <thead>\n",
       "    <tr style=\"text-align: right;\">\n",
       "      <th></th>\n",
       "      <th>Survived</th>\n",
       "      <th>Sex</th>\n",
       "      <th>Age</th>\n",
       "    </tr>\n",
       "  </thead>\n",
       "  <tbody>\n",
       "    <tr>\n",
       "      <th>0</th>\n",
       "      <td>0</td>\n",
       "      <td>male</td>\n",
       "      <td>22.0</td>\n",
       "    </tr>\n",
       "    <tr>\n",
       "      <th>1</th>\n",
       "      <td>1</td>\n",
       "      <td>female</td>\n",
       "      <td>38.0</td>\n",
       "    </tr>\n",
       "    <tr>\n",
       "      <th>2</th>\n",
       "      <td>1</td>\n",
       "      <td>female</td>\n",
       "      <td>26.0</td>\n",
       "    </tr>\n",
       "    <tr>\n",
       "      <th>3</th>\n",
       "      <td>1</td>\n",
       "      <td>female</td>\n",
       "      <td>35.0</td>\n",
       "    </tr>\n",
       "    <tr>\n",
       "      <th>4</th>\n",
       "      <td>0</td>\n",
       "      <td>male</td>\n",
       "      <td>35.0</td>\n",
       "    </tr>\n",
       "    <tr>\n",
       "      <th>...</th>\n",
       "      <td>...</td>\n",
       "      <td>...</td>\n",
       "      <td>...</td>\n",
       "    </tr>\n",
       "    <tr>\n",
       "      <th>886</th>\n",
       "      <td>0</td>\n",
       "      <td>male</td>\n",
       "      <td>27.0</td>\n",
       "    </tr>\n",
       "    <tr>\n",
       "      <th>887</th>\n",
       "      <td>1</td>\n",
       "      <td>female</td>\n",
       "      <td>19.0</td>\n",
       "    </tr>\n",
       "    <tr>\n",
       "      <th>888</th>\n",
       "      <td>0</td>\n",
       "      <td>female</td>\n",
       "      <td>NaN</td>\n",
       "    </tr>\n",
       "    <tr>\n",
       "      <th>889</th>\n",
       "      <td>1</td>\n",
       "      <td>male</td>\n",
       "      <td>26.0</td>\n",
       "    </tr>\n",
       "    <tr>\n",
       "      <th>890</th>\n",
       "      <td>0</td>\n",
       "      <td>male</td>\n",
       "      <td>32.0</td>\n",
       "    </tr>\n",
       "  </tbody>\n",
       "</table>\n",
       "<p>891 rows × 3 columns</p>\n",
       "</div>"
      ],
      "text/plain": [
       "     Survived     Sex   Age\n",
       "0           0    male  22.0\n",
       "1           1  female  38.0\n",
       "2           1  female  26.0\n",
       "3           1  female  35.0\n",
       "4           0    male  35.0\n",
       "..        ...     ...   ...\n",
       "886         0    male  27.0\n",
       "887         1  female  19.0\n",
       "888         0  female   NaN\n",
       "889         1    male  26.0\n",
       "890         0    male  32.0\n",
       "\n",
       "[891 rows x 3 columns]"
      ]
     },
     "execution_count": 7,
     "metadata": {},
     "output_type": "execute_result"
    }
   ],
   "source": [
    "df[[\"Survived\",\"Sex\",\"Age\"]]"
   ]
  },
  {
   "cell_type": "code",
   "execution_count": 8,
   "id": "a5996862",
   "metadata": {
    "execution": {
     "iopub.execute_input": "2023-01-19T11:57:52.317854Z",
     "iopub.status.busy": "2023-01-19T11:57:52.316718Z",
     "iopub.status.idle": "2023-01-19T11:57:52.331173Z",
     "shell.execute_reply": "2023-01-19T11:57:52.329665Z"
    },
    "papermill": {
     "duration": 0.035923,
     "end_time": "2023-01-19T11:57:52.333851",
     "exception": false,
     "start_time": "2023-01-19T11:57:52.297928",
     "status": "completed"
    },
    "tags": []
   },
   "outputs": [
    {
     "data": {
      "text/html": [
       "<div>\n",
       "<style scoped>\n",
       "    .dataframe tbody tr th:only-of-type {\n",
       "        vertical-align: middle;\n",
       "    }\n",
       "\n",
       "    .dataframe tbody tr th {\n",
       "        vertical-align: top;\n",
       "    }\n",
       "\n",
       "    .dataframe thead th {\n",
       "        text-align: right;\n",
       "    }\n",
       "</style>\n",
       "<table border=\"1\" class=\"dataframe\">\n",
       "  <thead>\n",
       "    <tr style=\"text-align: right;\">\n",
       "      <th></th>\n",
       "      <th>Survived</th>\n",
       "      <th>Sex</th>\n",
       "      <th>Age</th>\n",
       "    </tr>\n",
       "  </thead>\n",
       "  <tbody>\n",
       "    <tr>\n",
       "      <th>0</th>\n",
       "      <td>0</td>\n",
       "      <td>male</td>\n",
       "      <td>22.0</td>\n",
       "    </tr>\n",
       "    <tr>\n",
       "      <th>1</th>\n",
       "      <td>1</td>\n",
       "      <td>female</td>\n",
       "      <td>38.0</td>\n",
       "    </tr>\n",
       "    <tr>\n",
       "      <th>2</th>\n",
       "      <td>1</td>\n",
       "      <td>female</td>\n",
       "      <td>26.0</td>\n",
       "    </tr>\n",
       "    <tr>\n",
       "      <th>3</th>\n",
       "      <td>1</td>\n",
       "      <td>female</td>\n",
       "      <td>35.0</td>\n",
       "    </tr>\n",
       "    <tr>\n",
       "      <th>4</th>\n",
       "      <td>0</td>\n",
       "      <td>male</td>\n",
       "      <td>35.0</td>\n",
       "    </tr>\n",
       "  </tbody>\n",
       "</table>\n",
       "</div>"
      ],
      "text/plain": [
       "   Survived     Sex   Age\n",
       "0         0    male  22.0\n",
       "1         1  female  38.0\n",
       "2         1  female  26.0\n",
       "3         1  female  35.0\n",
       "4         0    male  35.0"
      ]
     },
     "execution_count": 8,
     "metadata": {},
     "output_type": "execute_result"
    }
   ],
   "source": [
    "df[[\"Survived\",\"Sex\",\"Age\"]].head()"
   ]
  },
  {
   "cell_type": "markdown",
   "id": "6f9122d1",
   "metadata": {
    "papermill": {
     "duration": 0.018753,
     "end_time": "2023-01-19T11:57:52.371196",
     "exception": false,
     "start_time": "2023-01-19T11:57:52.352443",
     "status": "completed"
    },
    "tags": []
   },
   "source": [
    "# Belirli sütunları ve satırları seçme"
   ]
  },
  {
   "cell_type": "markdown",
   "id": "bf326560",
   "metadata": {
    "papermill": {
     "duration": 0.017305,
     "end_time": "2023-01-19T11:57:52.405845",
     "exception": false,
     "start_time": "2023-01-19T11:57:52.388540",
     "status": "completed"
    },
    "tags": []
   },
   "source": [
    "> ### *df.loc[x:y,[“column_name1”,“column_name2”]]*"
   ]
  },
  {
   "cell_type": "markdown",
   "id": "559c83a9",
   "metadata": {
    "papermill": {
     "duration": 0.016194,
     "end_time": "2023-01-19T11:57:52.439403",
     "exception": false,
     "start_time": "2023-01-19T11:57:52.423209",
     "status": "completed"
    },
    "tags": []
   },
   "source": [
    "Eğer belirli satır ve belirli sütünlara bakmak isterseniz, şu şekilde yazabilirsiniz: **df.loc[x:y,[\"sütun_ismi_1\", \"sütun_ismi_2\"]]**. Burada **x** ve **y** birer tam sayıdır."
   ]
  },
  {
   "cell_type": "markdown",
   "id": "90576c5f",
   "metadata": {
    "papermill": {
     "duration": 0.017824,
     "end_time": "2023-01-19T11:57:52.473808",
     "exception": false,
     "start_time": "2023-01-19T11:57:52.455984",
     "status": "completed"
    },
    "tags": []
   },
   "source": [
    "Bu kod ile biz bilgisayara şunu söylüyoruz \"Bana x'ten y'ye kadar olan satırları (y dahil değil) ve bu satırların **sütun_ismi_1** ve **sütun_ismi_2** isimli sutunlarını getir.\""
   ]
  },
  {
   "cell_type": "code",
   "execution_count": 9,
   "id": "c6740246",
   "metadata": {
    "execution": {
     "iopub.execute_input": "2023-01-19T11:57:52.509305Z",
     "iopub.status.busy": "2023-01-19T11:57:52.508879Z",
     "iopub.status.idle": "2023-01-19T11:57:52.524180Z",
     "shell.execute_reply": "2023-01-19T11:57:52.522550Z"
    },
    "papermill": {
     "duration": 0.036294,
     "end_time": "2023-01-19T11:57:52.527002",
     "exception": false,
     "start_time": "2023-01-19T11:57:52.490708",
     "status": "completed"
    },
    "tags": []
   },
   "outputs": [
    {
     "data": {
      "text/html": [
       "<div>\n",
       "<style scoped>\n",
       "    .dataframe tbody tr th:only-of-type {\n",
       "        vertical-align: middle;\n",
       "    }\n",
       "\n",
       "    .dataframe tbody tr th {\n",
       "        vertical-align: top;\n",
       "    }\n",
       "\n",
       "    .dataframe thead th {\n",
       "        text-align: right;\n",
       "    }\n",
       "</style>\n",
       "<table border=\"1\" class=\"dataframe\">\n",
       "  <thead>\n",
       "    <tr style=\"text-align: right;\">\n",
       "      <th></th>\n",
       "      <th>Age</th>\n",
       "      <th>Sex</th>\n",
       "    </tr>\n",
       "  </thead>\n",
       "  <tbody>\n",
       "    <tr>\n",
       "      <th>0</th>\n",
       "      <td>22.0</td>\n",
       "      <td>male</td>\n",
       "    </tr>\n",
       "    <tr>\n",
       "      <th>1</th>\n",
       "      <td>38.0</td>\n",
       "      <td>female</td>\n",
       "    </tr>\n",
       "    <tr>\n",
       "      <th>2</th>\n",
       "      <td>26.0</td>\n",
       "      <td>female</td>\n",
       "    </tr>\n",
       "    <tr>\n",
       "      <th>3</th>\n",
       "      <td>35.0</td>\n",
       "      <td>female</td>\n",
       "    </tr>\n",
       "    <tr>\n",
       "      <th>4</th>\n",
       "      <td>35.0</td>\n",
       "      <td>male</td>\n",
       "    </tr>\n",
       "    <tr>\n",
       "      <th>5</th>\n",
       "      <td>NaN</td>\n",
       "      <td>male</td>\n",
       "    </tr>\n",
       "    <tr>\n",
       "      <th>6</th>\n",
       "      <td>54.0</td>\n",
       "      <td>male</td>\n",
       "    </tr>\n",
       "    <tr>\n",
       "      <th>7</th>\n",
       "      <td>2.0</td>\n",
       "      <td>male</td>\n",
       "    </tr>\n",
       "    <tr>\n",
       "      <th>8</th>\n",
       "      <td>27.0</td>\n",
       "      <td>female</td>\n",
       "    </tr>\n",
       "    <tr>\n",
       "      <th>9</th>\n",
       "      <td>14.0</td>\n",
       "      <td>female</td>\n",
       "    </tr>\n",
       "    <tr>\n",
       "      <th>10</th>\n",
       "      <td>4.0</td>\n",
       "      <td>female</td>\n",
       "    </tr>\n",
       "  </tbody>\n",
       "</table>\n",
       "</div>"
      ],
      "text/plain": [
       "     Age     Sex\n",
       "0   22.0    male\n",
       "1   38.0  female\n",
       "2   26.0  female\n",
       "3   35.0  female\n",
       "4   35.0    male\n",
       "5    NaN    male\n",
       "6   54.0    male\n",
       "7    2.0    male\n",
       "8   27.0  female\n",
       "9   14.0  female\n",
       "10   4.0  female"
      ]
     },
     "execution_count": 9,
     "metadata": {},
     "output_type": "execute_result"
    }
   ],
   "source": [
    "df.loc[0:10,[\"Age\",\"Sex\"]]"
   ]
  },
  {
   "cell_type": "markdown",
   "id": "0bd11df6",
   "metadata": {
    "papermill": {
     "duration": 0.017275,
     "end_time": "2023-01-19T11:57:52.561980",
     "exception": false,
     "start_time": "2023-01-19T11:57:52.544705",
     "status": "completed"
    },
    "tags": []
   },
   "source": [
    "## ***Diğer bi seçenek***"
   ]
  },
  {
   "cell_type": "markdown",
   "id": "e1cb9009",
   "metadata": {
    "papermill": {
     "duration": 0.016417,
     "end_time": "2023-01-19T11:57:52.595287",
     "exception": false,
     "start_time": "2023-01-19T11:57:52.578870",
     "status": "completed"
    },
    "tags": []
   },
   "source": [
    "> ### *df.iloc[x:y,z:w]*"
   ]
  },
  {
   "cell_type": "markdown",
   "id": "74417cba",
   "metadata": {
    "papermill": {
     "duration": 0.017417,
     "end_time": "2023-01-19T11:57:52.631050",
     "exception": false,
     "start_time": "2023-01-19T11:57:52.613633",
     "status": "completed"
    },
    "tags": []
   },
   "source": [
    "**df.iloc**, **df.loc**'a çok benziyor. df.iloc'da sütun isimleri yerine sütun indexleri yazılır. Bu yüzden **df.iloc**'da indexin \"i\" harfi var başında."
   ]
  },
  {
   "cell_type": "markdown",
   "id": "4c3b36d0",
   "metadata": {
    "papermill": {
     "duration": 0.017212,
     "end_time": "2023-01-19T11:57:52.665542",
     "exception": false,
     "start_time": "2023-01-19T11:57:52.648330",
     "status": "completed"
    },
    "tags": []
   },
   "source": [
    "Eğer belirli satır ve belirli sütünlara bakmak isterseniz, şu şekilde de yazabilirsiniz: **df.iloc[x:y,z:w]**. Burada **x,y,z** ve **w** birer tam sayıdır."
   ]
  },
  {
   "cell_type": "markdown",
   "id": "e1d2d3a2",
   "metadata": {
    "papermill": {
     "duration": 0.017323,
     "end_time": "2023-01-19T11:57:52.701662",
     "exception": false,
     "start_time": "2023-01-19T11:57:52.684339",
     "status": "completed"
    },
    "tags": []
   },
   "source": [
    "# Bir sütundaki verileri sıralama\n"
   ]
  },
  {
   "cell_type": "markdown",
   "id": "280b4e2a",
   "metadata": {
    "papermill": {
     "duration": 0.017775,
     "end_time": "2023-01-19T11:57:52.737662",
     "exception": false,
     "start_time": "2023-01-19T11:57:52.719887",
     "status": "completed"
    },
    "tags": []
   },
   "source": [
    "> ### *df[“”].sort_values()*\n"
   ]
  },
  {
   "cell_type": "markdown",
   "id": "c478c557",
   "metadata": {
    "papermill": {
     "duration": 0.016869,
     "end_time": "2023-01-19T11:57:52.772212",
     "exception": false,
     "start_time": "2023-01-19T11:57:52.755343",
     "status": "completed"
    },
    "tags": []
   },
   "source": [
    "Eğer verileri büyükten küçğğe veya küçükten büyüğe sıralmak isterseniz, bu şekilde: **df[\"\"].sort_values()** yapabilirsiniz."
   ]
  },
  {
   "cell_type": "markdown",
   "id": "fa7ecf2e",
   "metadata": {
    "papermill": {
     "duration": 0.018176,
     "end_time": "2023-01-19T11:57:52.809851",
     "exception": false,
     "start_time": "2023-01-19T11:57:52.791675",
     "status": "completed"
    },
    "tags": []
   },
   "source": [
    "#### **Peki nasıl .sort_values() fonksiyonunu kullanıyoruz?**"
   ]
  },
  {
   "cell_type": "markdown",
   "id": "cf2bd8f2",
   "metadata": {
    "papermill": {
     "duration": 0.016743,
     "end_time": "2023-01-19T11:57:52.845015",
     "exception": false,
     "start_time": "2023-01-19T11:57:52.828272",
     "status": "completed"
    },
    "tags": []
   },
   "source": [
    "Öncelikle neyi sıralmak istediğinizi yazmalısınız.\n",
    "\n",
    "\n",
    "Örneğin;"
   ]
  },
  {
   "cell_type": "code",
   "execution_count": 10,
   "id": "bd6ec1c7",
   "metadata": {
    "execution": {
     "iopub.execute_input": "2023-01-19T11:57:52.881898Z",
     "iopub.status.busy": "2023-01-19T11:57:52.881465Z",
     "iopub.status.idle": "2023-01-19T11:57:52.900626Z",
     "shell.execute_reply": "2023-01-19T11:57:52.899421Z"
    },
    "papermill": {
     "duration": 0.04161,
     "end_time": "2023-01-19T11:57:52.903685",
     "exception": false,
     "start_time": "2023-01-19T11:57:52.862075",
     "status": "completed"
    },
    "tags": []
   },
   "outputs": [
    {
     "data": {
      "text/html": [
       "<div>\n",
       "<style scoped>\n",
       "    .dataframe tbody tr th:only-of-type {\n",
       "        vertical-align: middle;\n",
       "    }\n",
       "\n",
       "    .dataframe tbody tr th {\n",
       "        vertical-align: top;\n",
       "    }\n",
       "\n",
       "    .dataframe thead th {\n",
       "        text-align: right;\n",
       "    }\n",
       "</style>\n",
       "<table border=\"1\" class=\"dataframe\">\n",
       "  <thead>\n",
       "    <tr style=\"text-align: right;\">\n",
       "      <th></th>\n",
       "      <th>PassengerId</th>\n",
       "      <th>Survived</th>\n",
       "      <th>Pclass</th>\n",
       "      <th>Name</th>\n",
       "      <th>Sex</th>\n",
       "      <th>Age</th>\n",
       "      <th>SibSp</th>\n",
       "      <th>Parch</th>\n",
       "      <th>Ticket</th>\n",
       "      <th>Fare</th>\n",
       "      <th>Cabin</th>\n",
       "      <th>Embarked</th>\n",
       "    </tr>\n",
       "  </thead>\n",
       "  <tbody>\n",
       "    <tr>\n",
       "      <th>803</th>\n",
       "      <td>804</td>\n",
       "      <td>1</td>\n",
       "      <td>3</td>\n",
       "      <td>Thomas, Master. Assad Alexander</td>\n",
       "      <td>male</td>\n",
       "      <td>0.42</td>\n",
       "      <td>0</td>\n",
       "      <td>1</td>\n",
       "      <td>2625</td>\n",
       "      <td>8.5167</td>\n",
       "      <td>NaN</td>\n",
       "      <td>C</td>\n",
       "    </tr>\n",
       "    <tr>\n",
       "      <th>755</th>\n",
       "      <td>756</td>\n",
       "      <td>1</td>\n",
       "      <td>2</td>\n",
       "      <td>Hamalainen, Master. Viljo</td>\n",
       "      <td>male</td>\n",
       "      <td>0.67</td>\n",
       "      <td>1</td>\n",
       "      <td>1</td>\n",
       "      <td>250649</td>\n",
       "      <td>14.5000</td>\n",
       "      <td>NaN</td>\n",
       "      <td>S</td>\n",
       "    </tr>\n",
       "    <tr>\n",
       "      <th>644</th>\n",
       "      <td>645</td>\n",
       "      <td>1</td>\n",
       "      <td>3</td>\n",
       "      <td>Baclini, Miss. Eugenie</td>\n",
       "      <td>female</td>\n",
       "      <td>0.75</td>\n",
       "      <td>2</td>\n",
       "      <td>1</td>\n",
       "      <td>2666</td>\n",
       "      <td>19.2583</td>\n",
       "      <td>NaN</td>\n",
       "      <td>C</td>\n",
       "    </tr>\n",
       "    <tr>\n",
       "      <th>469</th>\n",
       "      <td>470</td>\n",
       "      <td>1</td>\n",
       "      <td>3</td>\n",
       "      <td>Baclini, Miss. Helene Barbara</td>\n",
       "      <td>female</td>\n",
       "      <td>0.75</td>\n",
       "      <td>2</td>\n",
       "      <td>1</td>\n",
       "      <td>2666</td>\n",
       "      <td>19.2583</td>\n",
       "      <td>NaN</td>\n",
       "      <td>C</td>\n",
       "    </tr>\n",
       "    <tr>\n",
       "      <th>78</th>\n",
       "      <td>79</td>\n",
       "      <td>1</td>\n",
       "      <td>2</td>\n",
       "      <td>Caldwell, Master. Alden Gates</td>\n",
       "      <td>male</td>\n",
       "      <td>0.83</td>\n",
       "      <td>0</td>\n",
       "      <td>2</td>\n",
       "      <td>248738</td>\n",
       "      <td>29.0000</td>\n",
       "      <td>NaN</td>\n",
       "      <td>S</td>\n",
       "    </tr>\n",
       "  </tbody>\n",
       "</table>\n",
       "</div>"
      ],
      "text/plain": [
       "     PassengerId  Survived  Pclass                             Name     Sex  \\\n",
       "803          804         1       3  Thomas, Master. Assad Alexander    male   \n",
       "755          756         1       2        Hamalainen, Master. Viljo    male   \n",
       "644          645         1       3           Baclini, Miss. Eugenie  female   \n",
       "469          470         1       3    Baclini, Miss. Helene Barbara  female   \n",
       "78            79         1       2    Caldwell, Master. Alden Gates    male   \n",
       "\n",
       "      Age  SibSp  Parch  Ticket     Fare Cabin Embarked  \n",
       "803  0.42      0      1    2625   8.5167   NaN        C  \n",
       "755  0.67      1      1  250649  14.5000   NaN        S  \n",
       "644  0.75      2      1    2666  19.2583   NaN        C  \n",
       "469  0.75      2      1    2666  19.2583   NaN        C  \n",
       "78   0.83      0      2  248738  29.0000   NaN        S  "
      ]
     },
     "execution_count": 10,
     "metadata": {},
     "output_type": "execute_result"
    }
   ],
   "source": [
    "df.sort_values(\"Age\").head()"
   ]
  },
  {
   "cell_type": "markdown",
   "id": "03f86476",
   "metadata": {
    "papermill": {
     "duration": 0.016658,
     "end_time": "2023-01-19T11:57:52.937544",
     "exception": false,
     "start_time": "2023-01-19T11:57:52.920886",
     "status": "completed"
    },
    "tags": []
   },
   "source": [
    "Yada:"
   ]
  },
  {
   "cell_type": "code",
   "execution_count": 11,
   "id": "2fed0ce3",
   "metadata": {
    "execution": {
     "iopub.execute_input": "2023-01-19T11:57:52.973170Z",
     "iopub.status.busy": "2023-01-19T11:57:52.972748Z",
     "iopub.status.idle": "2023-01-19T11:57:52.992194Z",
     "shell.execute_reply": "2023-01-19T11:57:52.990866Z"
    },
    "papermill": {
     "duration": 0.040303,
     "end_time": "2023-01-19T11:57:52.994757",
     "exception": false,
     "start_time": "2023-01-19T11:57:52.954454",
     "status": "completed"
    },
    "tags": []
   },
   "outputs": [
    {
     "data": {
      "text/html": [
       "<div>\n",
       "<style scoped>\n",
       "    .dataframe tbody tr th:only-of-type {\n",
       "        vertical-align: middle;\n",
       "    }\n",
       "\n",
       "    .dataframe tbody tr th {\n",
       "        vertical-align: top;\n",
       "    }\n",
       "\n",
       "    .dataframe thead th {\n",
       "        text-align: right;\n",
       "    }\n",
       "</style>\n",
       "<table border=\"1\" class=\"dataframe\">\n",
       "  <thead>\n",
       "    <tr style=\"text-align: right;\">\n",
       "      <th></th>\n",
       "      <th>PassengerId</th>\n",
       "      <th>Survived</th>\n",
       "      <th>Pclass</th>\n",
       "      <th>Name</th>\n",
       "      <th>Sex</th>\n",
       "      <th>Age</th>\n",
       "      <th>SibSp</th>\n",
       "      <th>Parch</th>\n",
       "      <th>Ticket</th>\n",
       "      <th>Fare</th>\n",
       "      <th>Cabin</th>\n",
       "      <th>Embarked</th>\n",
       "    </tr>\n",
       "  </thead>\n",
       "  <tbody>\n",
       "    <tr>\n",
       "      <th>803</th>\n",
       "      <td>804</td>\n",
       "      <td>1</td>\n",
       "      <td>3</td>\n",
       "      <td>Thomas, Master. Assad Alexander</td>\n",
       "      <td>male</td>\n",
       "      <td>0.42</td>\n",
       "      <td>0</td>\n",
       "      <td>1</td>\n",
       "      <td>2625</td>\n",
       "      <td>8.5167</td>\n",
       "      <td>NaN</td>\n",
       "      <td>C</td>\n",
       "    </tr>\n",
       "    <tr>\n",
       "      <th>755</th>\n",
       "      <td>756</td>\n",
       "      <td>1</td>\n",
       "      <td>2</td>\n",
       "      <td>Hamalainen, Master. Viljo</td>\n",
       "      <td>male</td>\n",
       "      <td>0.67</td>\n",
       "      <td>1</td>\n",
       "      <td>1</td>\n",
       "      <td>250649</td>\n",
       "      <td>14.5000</td>\n",
       "      <td>NaN</td>\n",
       "      <td>S</td>\n",
       "    </tr>\n",
       "    <tr>\n",
       "      <th>644</th>\n",
       "      <td>645</td>\n",
       "      <td>1</td>\n",
       "      <td>3</td>\n",
       "      <td>Baclini, Miss. Eugenie</td>\n",
       "      <td>female</td>\n",
       "      <td>0.75</td>\n",
       "      <td>2</td>\n",
       "      <td>1</td>\n",
       "      <td>2666</td>\n",
       "      <td>19.2583</td>\n",
       "      <td>NaN</td>\n",
       "      <td>C</td>\n",
       "    </tr>\n",
       "    <tr>\n",
       "      <th>469</th>\n",
       "      <td>470</td>\n",
       "      <td>1</td>\n",
       "      <td>3</td>\n",
       "      <td>Baclini, Miss. Helene Barbara</td>\n",
       "      <td>female</td>\n",
       "      <td>0.75</td>\n",
       "      <td>2</td>\n",
       "      <td>1</td>\n",
       "      <td>2666</td>\n",
       "      <td>19.2583</td>\n",
       "      <td>NaN</td>\n",
       "      <td>C</td>\n",
       "    </tr>\n",
       "    <tr>\n",
       "      <th>78</th>\n",
       "      <td>79</td>\n",
       "      <td>1</td>\n",
       "      <td>2</td>\n",
       "      <td>Caldwell, Master. Alden Gates</td>\n",
       "      <td>male</td>\n",
       "      <td>0.83</td>\n",
       "      <td>0</td>\n",
       "      <td>2</td>\n",
       "      <td>248738</td>\n",
       "      <td>29.0000</td>\n",
       "      <td>NaN</td>\n",
       "      <td>S</td>\n",
       "    </tr>\n",
       "  </tbody>\n",
       "</table>\n",
       "</div>"
      ],
      "text/plain": [
       "     PassengerId  Survived  Pclass                             Name     Sex  \\\n",
       "803          804         1       3  Thomas, Master. Assad Alexander    male   \n",
       "755          756         1       2        Hamalainen, Master. Viljo    male   \n",
       "644          645         1       3           Baclini, Miss. Eugenie  female   \n",
       "469          470         1       3    Baclini, Miss. Helene Barbara  female   \n",
       "78            79         1       2    Caldwell, Master. Alden Gates    male   \n",
       "\n",
       "      Age  SibSp  Parch  Ticket     Fare Cabin Embarked  \n",
       "803  0.42      0      1    2625   8.5167   NaN        C  \n",
       "755  0.67      1      1  250649  14.5000   NaN        S  \n",
       "644  0.75      2      1    2666  19.2583   NaN        C  \n",
       "469  0.75      2      1    2666  19.2583   NaN        C  \n",
       "78   0.83      0      2  248738  29.0000   NaN        S  "
      ]
     },
     "execution_count": 11,
     "metadata": {},
     "output_type": "execute_result"
    }
   ],
   "source": [
    "df.sort_values(by=\"Age\").head()"
   ]
  },
  {
   "cell_type": "markdown",
   "id": "ed13bd1f",
   "metadata": {
    "papermill": {
     "duration": 0.017968,
     "end_time": "2023-01-19T11:57:53.031497",
     "exception": false,
     "start_time": "2023-01-19T11:57:53.013529",
     "status": "completed"
    },
    "tags": []
   },
   "source": [
    "Gördüğünüz üzere küçükten büyüğe sıralandılar.\n",
    "\n",
    "\n",
    "Büyükten küçüğe sıralamak için **ascending = False** yazmalısnız.\n",
    "\n",
    "\n",
    "#### ***Hadi örnek yapalım!***"
   ]
  },
  {
   "cell_type": "code",
   "execution_count": 12,
   "id": "5eab8a5a",
   "metadata": {
    "execution": {
     "iopub.execute_input": "2023-01-19T11:57:53.068819Z",
     "iopub.status.busy": "2023-01-19T11:57:53.068417Z",
     "iopub.status.idle": "2023-01-19T11:57:53.087927Z",
     "shell.execute_reply": "2023-01-19T11:57:53.087004Z"
    },
    "papermill": {
     "duration": 0.041237,
     "end_time": "2023-01-19T11:57:53.090136",
     "exception": false,
     "start_time": "2023-01-19T11:57:53.048899",
     "status": "completed"
    },
    "tags": []
   },
   "outputs": [
    {
     "data": {
      "text/html": [
       "<div>\n",
       "<style scoped>\n",
       "    .dataframe tbody tr th:only-of-type {\n",
       "        vertical-align: middle;\n",
       "    }\n",
       "\n",
       "    .dataframe tbody tr th {\n",
       "        vertical-align: top;\n",
       "    }\n",
       "\n",
       "    .dataframe thead th {\n",
       "        text-align: right;\n",
       "    }\n",
       "</style>\n",
       "<table border=\"1\" class=\"dataframe\">\n",
       "  <thead>\n",
       "    <tr style=\"text-align: right;\">\n",
       "      <th></th>\n",
       "      <th>PassengerId</th>\n",
       "      <th>Survived</th>\n",
       "      <th>Pclass</th>\n",
       "      <th>Name</th>\n",
       "      <th>Sex</th>\n",
       "      <th>Age</th>\n",
       "      <th>SibSp</th>\n",
       "      <th>Parch</th>\n",
       "      <th>Ticket</th>\n",
       "      <th>Fare</th>\n",
       "      <th>Cabin</th>\n",
       "      <th>Embarked</th>\n",
       "    </tr>\n",
       "  </thead>\n",
       "  <tbody>\n",
       "    <tr>\n",
       "      <th>630</th>\n",
       "      <td>631</td>\n",
       "      <td>1</td>\n",
       "      <td>1</td>\n",
       "      <td>Barkworth, Mr. Algernon Henry Wilson</td>\n",
       "      <td>male</td>\n",
       "      <td>80.0</td>\n",
       "      <td>0</td>\n",
       "      <td>0</td>\n",
       "      <td>27042</td>\n",
       "      <td>30.0000</td>\n",
       "      <td>A23</td>\n",
       "      <td>S</td>\n",
       "    </tr>\n",
       "    <tr>\n",
       "      <th>851</th>\n",
       "      <td>852</td>\n",
       "      <td>0</td>\n",
       "      <td>3</td>\n",
       "      <td>Svensson, Mr. Johan</td>\n",
       "      <td>male</td>\n",
       "      <td>74.0</td>\n",
       "      <td>0</td>\n",
       "      <td>0</td>\n",
       "      <td>347060</td>\n",
       "      <td>7.7750</td>\n",
       "      <td>NaN</td>\n",
       "      <td>S</td>\n",
       "    </tr>\n",
       "    <tr>\n",
       "      <th>493</th>\n",
       "      <td>494</td>\n",
       "      <td>0</td>\n",
       "      <td>1</td>\n",
       "      <td>Artagaveytia, Mr. Ramon</td>\n",
       "      <td>male</td>\n",
       "      <td>71.0</td>\n",
       "      <td>0</td>\n",
       "      <td>0</td>\n",
       "      <td>PC 17609</td>\n",
       "      <td>49.5042</td>\n",
       "      <td>NaN</td>\n",
       "      <td>C</td>\n",
       "    </tr>\n",
       "    <tr>\n",
       "      <th>96</th>\n",
       "      <td>97</td>\n",
       "      <td>0</td>\n",
       "      <td>1</td>\n",
       "      <td>Goldschmidt, Mr. George B</td>\n",
       "      <td>male</td>\n",
       "      <td>71.0</td>\n",
       "      <td>0</td>\n",
       "      <td>0</td>\n",
       "      <td>PC 17754</td>\n",
       "      <td>34.6542</td>\n",
       "      <td>A5</td>\n",
       "      <td>C</td>\n",
       "    </tr>\n",
       "    <tr>\n",
       "      <th>116</th>\n",
       "      <td>117</td>\n",
       "      <td>0</td>\n",
       "      <td>3</td>\n",
       "      <td>Connors, Mr. Patrick</td>\n",
       "      <td>male</td>\n",
       "      <td>70.5</td>\n",
       "      <td>0</td>\n",
       "      <td>0</td>\n",
       "      <td>370369</td>\n",
       "      <td>7.7500</td>\n",
       "      <td>NaN</td>\n",
       "      <td>Q</td>\n",
       "    </tr>\n",
       "    <tr>\n",
       "      <th>672</th>\n",
       "      <td>673</td>\n",
       "      <td>0</td>\n",
       "      <td>2</td>\n",
       "      <td>Mitchell, Mr. Henry Michael</td>\n",
       "      <td>male</td>\n",
       "      <td>70.0</td>\n",
       "      <td>0</td>\n",
       "      <td>0</td>\n",
       "      <td>C.A. 24580</td>\n",
       "      <td>10.5000</td>\n",
       "      <td>NaN</td>\n",
       "      <td>S</td>\n",
       "    </tr>\n",
       "    <tr>\n",
       "      <th>745</th>\n",
       "      <td>746</td>\n",
       "      <td>0</td>\n",
       "      <td>1</td>\n",
       "      <td>Crosby, Capt. Edward Gifford</td>\n",
       "      <td>male</td>\n",
       "      <td>70.0</td>\n",
       "      <td>1</td>\n",
       "      <td>1</td>\n",
       "      <td>WE/P 5735</td>\n",
       "      <td>71.0000</td>\n",
       "      <td>B22</td>\n",
       "      <td>S</td>\n",
       "    </tr>\n",
       "    <tr>\n",
       "      <th>33</th>\n",
       "      <td>34</td>\n",
       "      <td>0</td>\n",
       "      <td>2</td>\n",
       "      <td>Wheadon, Mr. Edward H</td>\n",
       "      <td>male</td>\n",
       "      <td>66.0</td>\n",
       "      <td>0</td>\n",
       "      <td>0</td>\n",
       "      <td>C.A. 24579</td>\n",
       "      <td>10.5000</td>\n",
       "      <td>NaN</td>\n",
       "      <td>S</td>\n",
       "    </tr>\n",
       "    <tr>\n",
       "      <th>54</th>\n",
       "      <td>55</td>\n",
       "      <td>0</td>\n",
       "      <td>1</td>\n",
       "      <td>Ostby, Mr. Engelhart Cornelius</td>\n",
       "      <td>male</td>\n",
       "      <td>65.0</td>\n",
       "      <td>0</td>\n",
       "      <td>1</td>\n",
       "      <td>113509</td>\n",
       "      <td>61.9792</td>\n",
       "      <td>B30</td>\n",
       "      <td>C</td>\n",
       "    </tr>\n",
       "    <tr>\n",
       "      <th>280</th>\n",
       "      <td>281</td>\n",
       "      <td>0</td>\n",
       "      <td>3</td>\n",
       "      <td>Duane, Mr. Frank</td>\n",
       "      <td>male</td>\n",
       "      <td>65.0</td>\n",
       "      <td>0</td>\n",
       "      <td>0</td>\n",
       "      <td>336439</td>\n",
       "      <td>7.7500</td>\n",
       "      <td>NaN</td>\n",
       "      <td>Q</td>\n",
       "    </tr>\n",
       "  </tbody>\n",
       "</table>\n",
       "</div>"
      ],
      "text/plain": [
       "     PassengerId  Survived  Pclass                                  Name  \\\n",
       "630          631         1       1  Barkworth, Mr. Algernon Henry Wilson   \n",
       "851          852         0       3                   Svensson, Mr. Johan   \n",
       "493          494         0       1               Artagaveytia, Mr. Ramon   \n",
       "96            97         0       1             Goldschmidt, Mr. George B   \n",
       "116          117         0       3                  Connors, Mr. Patrick   \n",
       "672          673         0       2           Mitchell, Mr. Henry Michael   \n",
       "745          746         0       1          Crosby, Capt. Edward Gifford   \n",
       "33            34         0       2                 Wheadon, Mr. Edward H   \n",
       "54            55         0       1        Ostby, Mr. Engelhart Cornelius   \n",
       "280          281         0       3                      Duane, Mr. Frank   \n",
       "\n",
       "      Sex   Age  SibSp  Parch      Ticket     Fare Cabin Embarked  \n",
       "630  male  80.0      0      0       27042  30.0000   A23        S  \n",
       "851  male  74.0      0      0      347060   7.7750   NaN        S  \n",
       "493  male  71.0      0      0    PC 17609  49.5042   NaN        C  \n",
       "96   male  71.0      0      0    PC 17754  34.6542    A5        C  \n",
       "116  male  70.5      0      0      370369   7.7500   NaN        Q  \n",
       "672  male  70.0      0      0  C.A. 24580  10.5000   NaN        S  \n",
       "745  male  70.0      1      1   WE/P 5735  71.0000   B22        S  \n",
       "33   male  66.0      0      0  C.A. 24579  10.5000   NaN        S  \n",
       "54   male  65.0      0      1      113509  61.9792   B30        C  \n",
       "280  male  65.0      0      0      336439   7.7500   NaN        Q  "
      ]
     },
     "execution_count": 12,
     "metadata": {},
     "output_type": "execute_result"
    }
   ],
   "source": [
    "df.sort_values(by=\"Age\",ascending=False).head(10)"
   ]
  },
  {
   "cell_type": "markdown",
   "id": "619118d7",
   "metadata": {
    "papermill": {
     "duration": 0.02273,
     "end_time": "2023-01-19T11:57:53.131724",
     "exception": false,
     "start_time": "2023-01-19T11:57:53.108994",
     "status": "completed"
    },
    "tags": []
   },
   "source": [
    "İşte şimdi büyükten küçüğe sıralandı."
   ]
  },
  {
   "cell_type": "markdown",
   "id": "b3af6e66",
   "metadata": {
    "papermill": {
     "duration": 0.018719,
     "end_time": "2023-01-19T11:57:53.169144",
     "exception": false,
     "start_time": "2023-01-19T11:57:53.150425",
     "status": "completed"
    },
    "tags": []
   },
   "source": [
    "# Bir sütundaki verilerin ne kadar geçtiğini hesaplama"
   ]
  },
  {
   "cell_type": "markdown",
   "id": "88216351",
   "metadata": {
    "papermill": {
     "duration": 0.018306,
     "end_time": "2023-01-19T11:57:53.205742",
     "exception": false,
     "start_time": "2023-01-19T11:57:53.187436",
     "status": "completed"
    },
    "tags": []
   },
   "source": [
    "> ### *df[“”].value_counts()*"
   ]
  },
  {
   "cell_type": "markdown",
   "id": "e07c91b9",
   "metadata": {
    "papermill": {
     "duration": 0.018032,
     "end_time": "2023-01-19T11:57:53.242910",
     "exception": false,
     "start_time": "2023-01-19T11:57:53.224878",
     "status": "completed"
    },
    "tags": []
   },
   "source": [
    "Eğer bir sütundaki verilerin toplam o sütunda bulunmalarını bulmak istiyorsanız **df[\"\"].value_counts()** fonksiyonunu kullanabilirsiniz.\n",
    "\n",
    "\n",
    "#### ***Örnek vermek gerekirse;***"
   ]
  },
  {
   "cell_type": "code",
   "execution_count": 13,
   "id": "4a68ec67",
   "metadata": {
    "execution": {
     "iopub.execute_input": "2023-01-19T11:57:53.282210Z",
     "iopub.status.busy": "2023-01-19T11:57:53.281793Z",
     "iopub.status.idle": "2023-01-19T11:57:53.292702Z",
     "shell.execute_reply": "2023-01-19T11:57:53.291484Z"
    },
    "papermill": {
     "duration": 0.034196,
     "end_time": "2023-01-19T11:57:53.295049",
     "exception": false,
     "start_time": "2023-01-19T11:57:53.260853",
     "status": "completed"
    },
    "tags": []
   },
   "outputs": [
    {
     "data": {
      "text/plain": [
       "male      577\n",
       "female    314\n",
       "Name: Sex, dtype: int64"
      ]
     },
     "execution_count": 13,
     "metadata": {},
     "output_type": "execute_result"
    }
   ],
   "source": [
    "df[\"Sex\"].value_counts()"
   ]
  },
  {
   "cell_type": "code",
   "execution_count": 14,
   "id": "949cc8e5",
   "metadata": {
    "execution": {
     "iopub.execute_input": "2023-01-19T11:57:53.333257Z",
     "iopub.status.busy": "2023-01-19T11:57:53.332277Z",
     "iopub.status.idle": "2023-01-19T11:57:53.341661Z",
     "shell.execute_reply": "2023-01-19T11:57:53.340340Z"
    },
    "papermill": {
     "duration": 0.031297,
     "end_time": "2023-01-19T11:57:53.344114",
     "exception": false,
     "start_time": "2023-01-19T11:57:53.312817",
     "status": "completed"
    },
    "tags": []
   },
   "outputs": [
    {
     "data": {
      "text/plain": [
       "S    644\n",
       "C    168\n",
       "Q     77\n",
       "Name: Embarked, dtype: int64"
      ]
     },
     "execution_count": 14,
     "metadata": {},
     "output_type": "execute_result"
    }
   ],
   "source": [
    "df[\"Embarked\"].value_counts()"
   ]
  },
  {
   "cell_type": "markdown",
   "id": "c9c6b65a",
   "metadata": {
    "papermill": {
     "duration": 0.020065,
     "end_time": "2023-01-19T11:57:53.383220",
     "exception": false,
     "start_time": "2023-01-19T11:57:53.363155",
     "status": "completed"
    },
    "tags": []
   },
   "source": [
    "# Bir sütunda geçen benzersiz değerleri bulmak"
   ]
  },
  {
   "cell_type": "markdown",
   "id": "8196ac5f",
   "metadata": {
    "papermill": {
     "duration": 0.019307,
     "end_time": "2023-01-19T11:57:53.424731",
     "exception": false,
     "start_time": "2023-01-19T11:57:53.405424",
     "status": "completed"
    },
    "tags": []
   },
   "source": [
    "> ### *df[“”].unique()*"
   ]
  },
  {
   "cell_type": "markdown",
   "id": "279362d8",
   "metadata": {
    "papermill": {
     "duration": 0.019268,
     "end_time": "2023-01-19T11:57:53.463465",
     "exception": false,
     "start_time": "2023-01-19T11:57:53.444197",
     "status": "completed"
    },
    "tags": []
   },
   "source": [
    "Eğer bir sütündaki yalnızca benzersiz verileri görmek isterseniz **df[\"\"].unique()** fonksiyonunu kullanabilirsiniz."
   ]
  },
  {
   "cell_type": "markdown",
   "id": "ffff709b",
   "metadata": {
    "papermill": {
     "duration": 0.019719,
     "end_time": "2023-01-19T11:57:53.504309",
     "exception": false,
     "start_time": "2023-01-19T11:57:53.484590",
     "status": "completed"
    },
    "tags": []
   },
   "source": [
    "Bir örnekle;"
   ]
  },
  {
   "cell_type": "code",
   "execution_count": 15,
   "id": "a75315cd",
   "metadata": {
    "execution": {
     "iopub.execute_input": "2023-01-19T11:57:53.543422Z",
     "iopub.status.busy": "2023-01-19T11:57:53.543038Z",
     "iopub.status.idle": "2023-01-19T11:57:53.554841Z",
     "shell.execute_reply": "2023-01-19T11:57:53.553342Z"
    },
    "papermill": {
     "duration": 0.03394,
     "end_time": "2023-01-19T11:57:53.557290",
     "exception": false,
     "start_time": "2023-01-19T11:57:53.523350",
     "status": "completed"
    },
    "tags": []
   },
   "outputs": [
    {
     "data": {
      "text/plain": [
       "array([3, 1, 2])"
      ]
     },
     "execution_count": 15,
     "metadata": {},
     "output_type": "execute_result"
    }
   ],
   "source": [
    "df[\"Pclass\"].unique()"
   ]
  },
  {
   "cell_type": "markdown",
   "id": "54d51b64",
   "metadata": {
    "papermill": {
     "duration": 0.018424,
     "end_time": "2023-01-19T11:57:53.595850",
     "exception": false,
     "start_time": "2023-01-19T11:57:53.577426",
     "status": "completed"
    },
    "tags": []
   },
   "source": [
    "Burdan anlıyoruzki **Pclass** sütunu 3 değer içeriyor ve onlarda: 1, 2, ve 3."
   ]
  },
  {
   "cell_type": "markdown",
   "id": "109eba5f",
   "metadata": {
    "papermill": {
     "duration": 0.01832,
     "end_time": "2023-01-19T11:57:53.633575",
     "exception": false,
     "start_time": "2023-01-19T11:57:53.615255",
     "status": "completed"
    },
    "tags": []
   },
   "source": [
    "# Bir sütunda geçen benzersiz değerlerin sayısını bulmak"
   ]
  },
  {
   "cell_type": "markdown",
   "id": "6548b98a",
   "metadata": {
    "papermill": {
     "duration": 0.019867,
     "end_time": "2023-01-19T11:57:53.672038",
     "exception": false,
     "start_time": "2023-01-19T11:57:53.652171",
     "status": "completed"
    },
    "tags": []
   },
   "source": [
    "> ### *df[“”].nunique()*"
   ]
  },
  {
   "cell_type": "markdown",
   "id": "2b34c89d",
   "metadata": {
    "papermill": {
     "duration": 0.018741,
     "end_time": "2023-01-19T11:57:53.708964",
     "exception": false,
     "start_time": "2023-01-19T11:57:53.690223",
     "status": "completed"
    },
    "tags": []
   },
   "source": [
    "Bazen kaç tane benzersiz değer olduğunu öğrenmek istersiniz o zaman **df[\"\"].nunique()** fonksiyonu yardımınıza koşar.\n",
    "\n",
    "\n",
    "*nunique= number of unique*, yani benzersiz değerlerin sayısı anlamına gelir\n",
    "\n",
    "\n",
    "Örneğin;"
   ]
  },
  {
   "cell_type": "code",
   "execution_count": 16,
   "id": "013f4767",
   "metadata": {
    "execution": {
     "iopub.execute_input": "2023-01-19T11:57:53.748644Z",
     "iopub.status.busy": "2023-01-19T11:57:53.747936Z",
     "iopub.status.idle": "2023-01-19T11:57:53.755537Z",
     "shell.execute_reply": "2023-01-19T11:57:53.754427Z"
    },
    "papermill": {
     "duration": 0.030512,
     "end_time": "2023-01-19T11:57:53.758035",
     "exception": false,
     "start_time": "2023-01-19T11:57:53.727523",
     "status": "completed"
    },
    "tags": []
   },
   "outputs": [
    {
     "data": {
      "text/plain": [
       "891"
      ]
     },
     "execution_count": 16,
     "metadata": {},
     "output_type": "execute_result"
    }
   ],
   "source": [
    "df[\"PassengerId\"].nunique()"
   ]
  },
  {
   "cell_type": "markdown",
   "id": "1f47d2d0",
   "metadata": {
    "papermill": {
     "duration": 0.018821,
     "end_time": "2023-01-19T11:57:53.796476",
     "exception": false,
     "start_time": "2023-01-19T11:57:53.777655",
     "status": "completed"
    },
    "tags": []
   },
   "source": [
    "Burdan şunu anlıyoruzki 891 tane farklı ***PassengerId*** vardır."
   ]
  },
  {
   "cell_type": "markdown",
   "id": "e195635e",
   "metadata": {
    "papermill": {
     "duration": 0.019544,
     "end_time": "2023-01-19T11:57:53.836135",
     "exception": false,
     "start_time": "2023-01-19T11:57:53.816591",
     "status": "completed"
    },
    "tags": []
   },
   "source": [
    "# İki sütunu karşılaştırmak"
   ]
  },
  {
   "cell_type": "markdown",
   "id": "3558f4f3",
   "metadata": {
    "papermill": {
     "duration": 0.019304,
     "end_time": "2023-01-19T11:57:53.875720",
     "exception": false,
     "start_time": "2023-01-19T11:57:53.856416",
     "status": "completed"
    },
    "tags": []
   },
   "source": [
    "> ### *df.groupby(‘’)[‘’].mean()*"
   ]
  },
  {
   "cell_type": "markdown",
   "id": "45c19072",
   "metadata": {
    "papermill": {
     "duration": 0.019376,
     "end_time": "2023-01-19T11:57:53.913525",
     "exception": false,
     "start_time": "2023-01-19T11:57:53.894149",
     "status": "completed"
    },
    "tags": []
   },
   "source": [
    "İki veya daha fazla sütunu karşılaştırmak için **df.groupby('')[''].mean()**.**mean()** yerine **sum(), std(), min(), max()** ve  **median()** gibi bazı istatiksel metodlar da kullaılabilir."
   ]
  },
  {
   "cell_type": "markdown",
   "id": "1dd13a47",
   "metadata": {
    "papermill": {
     "duration": 0.018881,
     "end_time": "2023-01-19T11:57:53.953126",
     "exception": false,
     "start_time": "2023-01-19T11:57:53.934245",
     "status": "completed"
    },
    "tags": []
   },
   "source": [
    "#### Örnekler:"
   ]
  },
  {
   "cell_type": "code",
   "execution_count": 17,
   "id": "736078cb",
   "metadata": {
    "execution": {
     "iopub.execute_input": "2023-01-19T11:57:53.996162Z",
     "iopub.status.busy": "2023-01-19T11:57:53.995346Z",
     "iopub.status.idle": "2023-01-19T11:57:54.010050Z",
     "shell.execute_reply": "2023-01-19T11:57:54.007858Z"
    },
    "papermill": {
     "duration": 0.039802,
     "end_time": "2023-01-19T11:57:54.013006",
     "exception": false,
     "start_time": "2023-01-19T11:57:53.973204",
     "status": "completed"
    },
    "tags": []
   },
   "outputs": [
    {
     "data": {
      "text/plain": [
       "Sex\n",
       "female    0.742038\n",
       "male      0.188908\n",
       "Name: Survived, dtype: float64"
      ]
     },
     "execution_count": 17,
     "metadata": {},
     "output_type": "execute_result"
    }
   ],
   "source": [
    "df.groupby('Sex')['Survived'].mean()"
   ]
  },
  {
   "cell_type": "markdown",
   "id": "5f6c12ca",
   "metadata": {
    "papermill": {
     "duration": 0.019217,
     "end_time": "2023-01-19T11:57:54.051591",
     "exception": false,
     "start_time": "2023-01-19T11:57:54.032374",
     "status": "completed"
    },
    "tags": []
   },
   "source": [
    "Kadınların %74,2 hayatta kamış ve erkeklerin %18,89 hayatta kalmış."
   ]
  },
  {
   "cell_type": "code",
   "execution_count": 18,
   "id": "1d2bf28b",
   "metadata": {
    "execution": {
     "iopub.execute_input": "2023-01-19T11:57:54.092127Z",
     "iopub.status.busy": "2023-01-19T11:57:54.091689Z",
     "iopub.status.idle": "2023-01-19T11:57:54.104010Z",
     "shell.execute_reply": "2023-01-19T11:57:54.102681Z"
    },
    "papermill": {
     "duration": 0.036409,
     "end_time": "2023-01-19T11:57:54.107459",
     "exception": false,
     "start_time": "2023-01-19T11:57:54.071050",
     "status": "completed"
    },
    "tags": []
   },
   "outputs": [
    {
     "data": {
      "text/plain": [
       "Sex\n",
       "female    233\n",
       "male      109\n",
       "Name: Survived, dtype: int64"
      ]
     },
     "execution_count": 18,
     "metadata": {},
     "output_type": "execute_result"
    }
   ],
   "source": [
    "df.groupby('Sex')['Survived'].sum()"
   ]
  },
  {
   "cell_type": "markdown",
   "id": "751bf10f",
   "metadata": {
    "papermill": {
     "duration": 0.019998,
     "end_time": "2023-01-19T11:57:54.148368",
     "exception": false,
     "start_time": "2023-01-19T11:57:54.128370",
     "status": "completed"
    },
    "tags": []
   },
   "source": [
    "233 kadın ve 109 erkek hayatta kalmış."
   ]
  },
  {
   "cell_type": "code",
   "execution_count": 19,
   "id": "e48430e9",
   "metadata": {
    "execution": {
     "iopub.execute_input": "2023-01-19T11:57:54.191481Z",
     "iopub.status.busy": "2023-01-19T11:57:54.191056Z",
     "iopub.status.idle": "2023-01-19T11:57:54.203701Z",
     "shell.execute_reply": "2023-01-19T11:57:54.201813Z"
    },
    "papermill": {
     "duration": 0.036786,
     "end_time": "2023-01-19T11:57:54.206387",
     "exception": false,
     "start_time": "2023-01-19T11:57:54.169601",
     "status": "completed"
    },
    "tags": []
   },
   "outputs": [
    {
     "data": {
      "text/plain": [
       "Sex\n",
       "female    0.438211\n",
       "male      0.391775\n",
       "Name: Survived, dtype: float64"
      ]
     },
     "execution_count": 19,
     "metadata": {},
     "output_type": "execute_result"
    }
   ],
   "source": [
    "df.groupby('Sex')['Survived'].std()"
   ]
  },
  {
   "cell_type": "markdown",
   "id": "f6428a26",
   "metadata": {
    "papermill": {
     "duration": 0.02178,
     "end_time": "2023-01-19T11:57:54.248241",
     "exception": false,
     "start_time": "2023-01-19T11:57:54.226461",
     "status": "completed"
    },
    "tags": []
   },
   "source": [
    "Std = Standard deviation, yani standart sapmadır."
   ]
  },
  {
   "cell_type": "code",
   "execution_count": 20,
   "id": "7ef94e35",
   "metadata": {
    "execution": {
     "iopub.execute_input": "2023-01-19T11:57:54.294108Z",
     "iopub.status.busy": "2023-01-19T11:57:54.293306Z",
     "iopub.status.idle": "2023-01-19T11:57:54.304937Z",
     "shell.execute_reply": "2023-01-19T11:57:54.303618Z"
    },
    "papermill": {
     "duration": 0.037964,
     "end_time": "2023-01-19T11:57:54.307548",
     "exception": false,
     "start_time": "2023-01-19T11:57:54.269584",
     "status": "completed"
    },
    "tags": []
   },
   "outputs": [
    {
     "data": {
      "text/plain": [
       "Sex\n",
       "female    6.75\n",
       "male      0.00\n",
       "Name: Fare, dtype: float64"
      ]
     },
     "execution_count": 20,
     "metadata": {},
     "output_type": "execute_result"
    }
   ],
   "source": [
    "df.groupby('Sex')['Fare'].min()"
   ]
  },
  {
   "cell_type": "markdown",
   "id": "21d60f45",
   "metadata": {
    "papermill": {
     "duration": 0.020811,
     "end_time": "2023-01-19T11:57:54.349651",
     "exception": false,
     "start_time": "2023-01-19T11:57:54.328840",
     "status": "completed"
    },
    "tags": []
   },
   "source": [
    "Kadınlardan en düşük ödeyen 6.75 ödemiş ve erkeklerden en düşük ödeyen 0.00 ödemiş."
   ]
  },
  {
   "cell_type": "code",
   "execution_count": 21,
   "id": "02dc8ba4",
   "metadata": {
    "execution": {
     "iopub.execute_input": "2023-01-19T11:57:54.395589Z",
     "iopub.status.busy": "2023-01-19T11:57:54.394878Z",
     "iopub.status.idle": "2023-01-19T11:57:54.405562Z",
     "shell.execute_reply": "2023-01-19T11:57:54.404273Z"
    },
    "papermill": {
     "duration": 0.037486,
     "end_time": "2023-01-19T11:57:54.408643",
     "exception": false,
     "start_time": "2023-01-19T11:57:54.371157",
     "status": "completed"
    },
    "tags": []
   },
   "outputs": [
    {
     "data": {
      "text/plain": [
       "Sex\n",
       "female    512.3292\n",
       "male      512.3292\n",
       "Name: Fare, dtype: float64"
      ]
     },
     "execution_count": 21,
     "metadata": {},
     "output_type": "execute_result"
    }
   ],
   "source": [
    "df.groupby('Sex')['Fare'].max()"
   ]
  },
  {
   "cell_type": "markdown",
   "id": "3c329705",
   "metadata": {
    "papermill": {
     "duration": 0.020319,
     "end_time": "2023-01-19T11:57:54.448606",
     "exception": false,
     "start_time": "2023-01-19T11:57:54.428287",
     "status": "completed"
    },
    "tags": []
   },
   "source": [
    "En fazla ödeyen kadın 512.3292 ödemiş ve en fazla ödeyen erkek 512.3292 ödemiş."
   ]
  },
  {
   "cell_type": "code",
   "execution_count": 22,
   "id": "065c6721",
   "metadata": {
    "execution": {
     "iopub.execute_input": "2023-01-19T11:57:54.489903Z",
     "iopub.status.busy": "2023-01-19T11:57:54.489429Z",
     "iopub.status.idle": "2023-01-19T11:57:54.503214Z",
     "shell.execute_reply": "2023-01-19T11:57:54.501698Z"
    },
    "papermill": {
     "duration": 0.036737,
     "end_time": "2023-01-19T11:57:54.505975",
     "exception": false,
     "start_time": "2023-01-19T11:57:54.469238",
     "status": "completed"
    },
    "tags": []
   },
   "outputs": [
    {
     "data": {
      "text/plain": [
       "Sex\n",
       "female    27.0\n",
       "male      29.0\n",
       "Name: Age, dtype: float64"
      ]
     },
     "execution_count": 22,
     "metadata": {},
     "output_type": "execute_result"
    }
   ],
   "source": [
    "df.groupby('Sex')['Age'].median()"
   ]
  },
  {
   "cell_type": "markdown",
   "id": "7a3aba6f",
   "metadata": {
    "papermill": {
     "duration": 0.018492,
     "end_time": "2023-01-19T11:57:54.543624",
     "exception": false,
     "start_time": "2023-01-19T11:57:54.525132",
     "status": "completed"
    },
    "tags": []
   },
   "source": [
    "Kadınların yaşa göre medyanı 27.0 \n",
    "\n",
    "\n",
    "Erkeklerin yaşa göre medyanı :29.0\n",
    "\n",
    "\n",
    "**Birden fazla sütüna göre karşılaştırmaya örnekler:**"
   ]
  },
  {
   "cell_type": "markdown",
   "id": "cdde8553",
   "metadata": {
    "papermill": {
     "duration": 0.018613,
     "end_time": "2023-01-19T11:57:54.581267",
     "exception": false,
     "start_time": "2023-01-19T11:57:54.562654",
     "status": "completed"
    },
    "tags": []
   },
   "source": [
    "**Or you can compare a column with more than one column**"
   ]
  },
  {
   "cell_type": "code",
   "execution_count": 23,
   "id": "589294bc",
   "metadata": {
    "execution": {
     "iopub.execute_input": "2023-01-19T11:57:54.622375Z",
     "iopub.status.busy": "2023-01-19T11:57:54.621614Z",
     "iopub.status.idle": "2023-01-19T11:57:54.640193Z",
     "shell.execute_reply": "2023-01-19T11:57:54.638861Z"
    },
    "papermill": {
     "duration": 0.041707,
     "end_time": "2023-01-19T11:57:54.642650",
     "exception": false,
     "start_time": "2023-01-19T11:57:54.600943",
     "status": "completed"
    },
    "tags": []
   },
   "outputs": [
    {
     "data": {
      "text/html": [
       "<div>\n",
       "<style scoped>\n",
       "    .dataframe tbody tr th:only-of-type {\n",
       "        vertical-align: middle;\n",
       "    }\n",
       "\n",
       "    .dataframe tbody tr th {\n",
       "        vertical-align: top;\n",
       "    }\n",
       "\n",
       "    .dataframe thead th {\n",
       "        text-align: right;\n",
       "    }\n",
       "</style>\n",
       "<table border=\"1\" class=\"dataframe\">\n",
       "  <thead>\n",
       "    <tr style=\"text-align: right;\">\n",
       "      <th></th>\n",
       "      <th>Survived</th>\n",
       "      <th>Age</th>\n",
       "    </tr>\n",
       "    <tr>\n",
       "      <th>Sex</th>\n",
       "      <th></th>\n",
       "      <th></th>\n",
       "    </tr>\n",
       "  </thead>\n",
       "  <tbody>\n",
       "    <tr>\n",
       "      <th>female</th>\n",
       "      <td>0.742038</td>\n",
       "      <td>27.915709</td>\n",
       "    </tr>\n",
       "    <tr>\n",
       "      <th>male</th>\n",
       "      <td>0.188908</td>\n",
       "      <td>30.726645</td>\n",
       "    </tr>\n",
       "  </tbody>\n",
       "</table>\n",
       "</div>"
      ],
      "text/plain": [
       "        Survived        Age\n",
       "Sex                        \n",
       "female  0.742038  27.915709\n",
       "male    0.188908  30.726645"
      ]
     },
     "execution_count": 23,
     "metadata": {},
     "output_type": "execute_result"
    }
   ],
   "source": [
    "df.groupby('Sex')[['Survived','Age']].mean()"
   ]
  },
  {
   "cell_type": "markdown",
   "id": "38a0d8ea",
   "metadata": {
    "papermill": {
     "duration": 0.019838,
     "end_time": "2023-01-19T11:57:54.682569",
     "exception": false,
     "start_time": "2023-01-19T11:57:54.662731",
     "status": "completed"
    },
    "tags": []
   },
   "source": [
    "# Sütunların içindeki belli değerlere göre filitreleme"
   ]
  },
  {
   "cell_type": "markdown",
   "id": "7753cca8",
   "metadata": {
    "papermill": {
     "duration": 0.019682,
     "end_time": "2023-01-19T11:57:54.722351",
     "exception": false,
     "start_time": "2023-01-19T11:57:54.702669",
     "status": "completed"
    },
    "tags": []
   },
   "source": [
    "Örneğin, yalnızca erkeklerin verilerini görmek için:"
   ]
  },
  {
   "cell_type": "code",
   "execution_count": 24,
   "id": "8f9cb362",
   "metadata": {
    "execution": {
     "iopub.execute_input": "2023-01-19T11:57:54.763603Z",
     "iopub.status.busy": "2023-01-19T11:57:54.762529Z",
     "iopub.status.idle": "2023-01-19T11:57:54.782110Z",
     "shell.execute_reply": "2023-01-19T11:57:54.781226Z"
    },
    "papermill": {
     "duration": 0.042511,
     "end_time": "2023-01-19T11:57:54.784358",
     "exception": false,
     "start_time": "2023-01-19T11:57:54.741847",
     "status": "completed"
    },
    "tags": []
   },
   "outputs": [
    {
     "data": {
      "text/html": [
       "<div>\n",
       "<style scoped>\n",
       "    .dataframe tbody tr th:only-of-type {\n",
       "        vertical-align: middle;\n",
       "    }\n",
       "\n",
       "    .dataframe tbody tr th {\n",
       "        vertical-align: top;\n",
       "    }\n",
       "\n",
       "    .dataframe thead th {\n",
       "        text-align: right;\n",
       "    }\n",
       "</style>\n",
       "<table border=\"1\" class=\"dataframe\">\n",
       "  <thead>\n",
       "    <tr style=\"text-align: right;\">\n",
       "      <th></th>\n",
       "      <th>PassengerId</th>\n",
       "      <th>Survived</th>\n",
       "      <th>Pclass</th>\n",
       "      <th>Name</th>\n",
       "      <th>Sex</th>\n",
       "      <th>Age</th>\n",
       "      <th>SibSp</th>\n",
       "      <th>Parch</th>\n",
       "      <th>Ticket</th>\n",
       "      <th>Fare</th>\n",
       "      <th>Cabin</th>\n",
       "      <th>Embarked</th>\n",
       "    </tr>\n",
       "  </thead>\n",
       "  <tbody>\n",
       "    <tr>\n",
       "      <th>873</th>\n",
       "      <td>874</td>\n",
       "      <td>0</td>\n",
       "      <td>3</td>\n",
       "      <td>Vander Cruyssen, Mr. Victor</td>\n",
       "      <td>male</td>\n",
       "      <td>47.0</td>\n",
       "      <td>0</td>\n",
       "      <td>0</td>\n",
       "      <td>345765</td>\n",
       "      <td>9.0000</td>\n",
       "      <td>NaN</td>\n",
       "      <td>S</td>\n",
       "    </tr>\n",
       "    <tr>\n",
       "      <th>876</th>\n",
       "      <td>877</td>\n",
       "      <td>0</td>\n",
       "      <td>3</td>\n",
       "      <td>Gustafsson, Mr. Alfred Ossian</td>\n",
       "      <td>male</td>\n",
       "      <td>20.0</td>\n",
       "      <td>0</td>\n",
       "      <td>0</td>\n",
       "      <td>7534</td>\n",
       "      <td>9.8458</td>\n",
       "      <td>NaN</td>\n",
       "      <td>S</td>\n",
       "    </tr>\n",
       "    <tr>\n",
       "      <th>877</th>\n",
       "      <td>878</td>\n",
       "      <td>0</td>\n",
       "      <td>3</td>\n",
       "      <td>Petroff, Mr. Nedelio</td>\n",
       "      <td>male</td>\n",
       "      <td>19.0</td>\n",
       "      <td>0</td>\n",
       "      <td>0</td>\n",
       "      <td>349212</td>\n",
       "      <td>7.8958</td>\n",
       "      <td>NaN</td>\n",
       "      <td>S</td>\n",
       "    </tr>\n",
       "    <tr>\n",
       "      <th>878</th>\n",
       "      <td>879</td>\n",
       "      <td>0</td>\n",
       "      <td>3</td>\n",
       "      <td>Laleff, Mr. Kristo</td>\n",
       "      <td>male</td>\n",
       "      <td>NaN</td>\n",
       "      <td>0</td>\n",
       "      <td>0</td>\n",
       "      <td>349217</td>\n",
       "      <td>7.8958</td>\n",
       "      <td>NaN</td>\n",
       "      <td>S</td>\n",
       "    </tr>\n",
       "    <tr>\n",
       "      <th>881</th>\n",
       "      <td>882</td>\n",
       "      <td>0</td>\n",
       "      <td>3</td>\n",
       "      <td>Markun, Mr. Johann</td>\n",
       "      <td>male</td>\n",
       "      <td>33.0</td>\n",
       "      <td>0</td>\n",
       "      <td>0</td>\n",
       "      <td>349257</td>\n",
       "      <td>7.8958</td>\n",
       "      <td>NaN</td>\n",
       "      <td>S</td>\n",
       "    </tr>\n",
       "    <tr>\n",
       "      <th>883</th>\n",
       "      <td>884</td>\n",
       "      <td>0</td>\n",
       "      <td>2</td>\n",
       "      <td>Banfield, Mr. Frederick James</td>\n",
       "      <td>male</td>\n",
       "      <td>28.0</td>\n",
       "      <td>0</td>\n",
       "      <td>0</td>\n",
       "      <td>C.A./SOTON 34068</td>\n",
       "      <td>10.5000</td>\n",
       "      <td>NaN</td>\n",
       "      <td>S</td>\n",
       "    </tr>\n",
       "    <tr>\n",
       "      <th>884</th>\n",
       "      <td>885</td>\n",
       "      <td>0</td>\n",
       "      <td>3</td>\n",
       "      <td>Sutehall, Mr. Henry Jr</td>\n",
       "      <td>male</td>\n",
       "      <td>25.0</td>\n",
       "      <td>0</td>\n",
       "      <td>0</td>\n",
       "      <td>SOTON/OQ 392076</td>\n",
       "      <td>7.0500</td>\n",
       "      <td>NaN</td>\n",
       "      <td>S</td>\n",
       "    </tr>\n",
       "    <tr>\n",
       "      <th>886</th>\n",
       "      <td>887</td>\n",
       "      <td>0</td>\n",
       "      <td>2</td>\n",
       "      <td>Montvila, Rev. Juozas</td>\n",
       "      <td>male</td>\n",
       "      <td>27.0</td>\n",
       "      <td>0</td>\n",
       "      <td>0</td>\n",
       "      <td>211536</td>\n",
       "      <td>13.0000</td>\n",
       "      <td>NaN</td>\n",
       "      <td>S</td>\n",
       "    </tr>\n",
       "    <tr>\n",
       "      <th>889</th>\n",
       "      <td>890</td>\n",
       "      <td>1</td>\n",
       "      <td>1</td>\n",
       "      <td>Behr, Mr. Karl Howell</td>\n",
       "      <td>male</td>\n",
       "      <td>26.0</td>\n",
       "      <td>0</td>\n",
       "      <td>0</td>\n",
       "      <td>111369</td>\n",
       "      <td>30.0000</td>\n",
       "      <td>C148</td>\n",
       "      <td>C</td>\n",
       "    </tr>\n",
       "    <tr>\n",
       "      <th>890</th>\n",
       "      <td>891</td>\n",
       "      <td>0</td>\n",
       "      <td>3</td>\n",
       "      <td>Dooley, Mr. Patrick</td>\n",
       "      <td>male</td>\n",
       "      <td>32.0</td>\n",
       "      <td>0</td>\n",
       "      <td>0</td>\n",
       "      <td>370376</td>\n",
       "      <td>7.7500</td>\n",
       "      <td>NaN</td>\n",
       "      <td>Q</td>\n",
       "    </tr>\n",
       "  </tbody>\n",
       "</table>\n",
       "</div>"
      ],
      "text/plain": [
       "     PassengerId  Survived  Pclass                           Name   Sex   Age  \\\n",
       "873          874         0       3    Vander Cruyssen, Mr. Victor  male  47.0   \n",
       "876          877         0       3  Gustafsson, Mr. Alfred Ossian  male  20.0   \n",
       "877          878         0       3           Petroff, Mr. Nedelio  male  19.0   \n",
       "878          879         0       3             Laleff, Mr. Kristo  male   NaN   \n",
       "881          882         0       3             Markun, Mr. Johann  male  33.0   \n",
       "883          884         0       2  Banfield, Mr. Frederick James  male  28.0   \n",
       "884          885         0       3         Sutehall, Mr. Henry Jr  male  25.0   \n",
       "886          887         0       2          Montvila, Rev. Juozas  male  27.0   \n",
       "889          890         1       1          Behr, Mr. Karl Howell  male  26.0   \n",
       "890          891         0       3            Dooley, Mr. Patrick  male  32.0   \n",
       "\n",
       "     SibSp  Parch            Ticket     Fare Cabin Embarked  \n",
       "873      0      0            345765   9.0000   NaN        S  \n",
       "876      0      0              7534   9.8458   NaN        S  \n",
       "877      0      0            349212   7.8958   NaN        S  \n",
       "878      0      0            349217   7.8958   NaN        S  \n",
       "881      0      0            349257   7.8958   NaN        S  \n",
       "883      0      0  C.A./SOTON 34068  10.5000   NaN        S  \n",
       "884      0      0   SOTON/OQ 392076   7.0500   NaN        S  \n",
       "886      0      0            211536  13.0000   NaN        S  \n",
       "889      0      0            111369  30.0000  C148        C  \n",
       "890      0      0            370376   7.7500   NaN        Q  "
      ]
     },
     "execution_count": 24,
     "metadata": {},
     "output_type": "execute_result"
    }
   ],
   "source": [
    "df[df.Sex=='male'].tail(10)"
   ]
  },
  {
   "cell_type": "markdown",
   "id": "41915a6b",
   "metadata": {
    "papermill": {
     "duration": 0.019236,
     "end_time": "2023-01-19T11:57:54.823502",
     "exception": false,
     "start_time": "2023-01-19T11:57:54.804266",
     "status": "completed"
    },
    "tags": []
   },
   "source": [
    "17 yaşından büyük kadınların verilerini görmek için:"
   ]
  },
  {
   "cell_type": "code",
   "execution_count": 25,
   "id": "fc7ca8ed",
   "metadata": {
    "execution": {
     "iopub.execute_input": "2023-01-19T11:57:54.864423Z",
     "iopub.status.busy": "2023-01-19T11:57:54.863751Z",
     "iopub.status.idle": "2023-01-19T11:57:54.882838Z",
     "shell.execute_reply": "2023-01-19T11:57:54.881764Z"
    },
    "papermill": {
     "duration": 0.042569,
     "end_time": "2023-01-19T11:57:54.885586",
     "exception": false,
     "start_time": "2023-01-19T11:57:54.843017",
     "status": "completed"
    },
    "tags": []
   },
   "outputs": [
    {
     "data": {
      "text/html": [
       "<div>\n",
       "<style scoped>\n",
       "    .dataframe tbody tr th:only-of-type {\n",
       "        vertical-align: middle;\n",
       "    }\n",
       "\n",
       "    .dataframe tbody tr th {\n",
       "        vertical-align: top;\n",
       "    }\n",
       "\n",
       "    .dataframe thead th {\n",
       "        text-align: right;\n",
       "    }\n",
       "</style>\n",
       "<table border=\"1\" class=\"dataframe\">\n",
       "  <thead>\n",
       "    <tr style=\"text-align: right;\">\n",
       "      <th></th>\n",
       "      <th>PassengerId</th>\n",
       "      <th>Survived</th>\n",
       "      <th>Pclass</th>\n",
       "      <th>Name</th>\n",
       "      <th>Sex</th>\n",
       "      <th>Age</th>\n",
       "      <th>SibSp</th>\n",
       "      <th>Parch</th>\n",
       "      <th>Ticket</th>\n",
       "      <th>Fare</th>\n",
       "      <th>Cabin</th>\n",
       "      <th>Embarked</th>\n",
       "    </tr>\n",
       "  </thead>\n",
       "  <tbody>\n",
       "    <tr>\n",
       "      <th>1</th>\n",
       "      <td>2</td>\n",
       "      <td>1</td>\n",
       "      <td>1</td>\n",
       "      <td>Cumings, Mrs. John Bradley (Florence Briggs Th...</td>\n",
       "      <td>female</td>\n",
       "      <td>38.0</td>\n",
       "      <td>1</td>\n",
       "      <td>0</td>\n",
       "      <td>PC 17599</td>\n",
       "      <td>71.2833</td>\n",
       "      <td>C85</td>\n",
       "      <td>C</td>\n",
       "    </tr>\n",
       "    <tr>\n",
       "      <th>2</th>\n",
       "      <td>3</td>\n",
       "      <td>1</td>\n",
       "      <td>3</td>\n",
       "      <td>Heikkinen, Miss. Laina</td>\n",
       "      <td>female</td>\n",
       "      <td>26.0</td>\n",
       "      <td>0</td>\n",
       "      <td>0</td>\n",
       "      <td>STON/O2. 3101282</td>\n",
       "      <td>7.9250</td>\n",
       "      <td>NaN</td>\n",
       "      <td>S</td>\n",
       "    </tr>\n",
       "    <tr>\n",
       "      <th>3</th>\n",
       "      <td>4</td>\n",
       "      <td>1</td>\n",
       "      <td>1</td>\n",
       "      <td>Futrelle, Mrs. Jacques Heath (Lily May Peel)</td>\n",
       "      <td>female</td>\n",
       "      <td>35.0</td>\n",
       "      <td>1</td>\n",
       "      <td>0</td>\n",
       "      <td>113803</td>\n",
       "      <td>53.1000</td>\n",
       "      <td>C123</td>\n",
       "      <td>S</td>\n",
       "    </tr>\n",
       "    <tr>\n",
       "      <th>8</th>\n",
       "      <td>9</td>\n",
       "      <td>1</td>\n",
       "      <td>3</td>\n",
       "      <td>Johnson, Mrs. Oscar W (Elisabeth Vilhelmina Berg)</td>\n",
       "      <td>female</td>\n",
       "      <td>27.0</td>\n",
       "      <td>0</td>\n",
       "      <td>2</td>\n",
       "      <td>347742</td>\n",
       "      <td>11.1333</td>\n",
       "      <td>NaN</td>\n",
       "      <td>S</td>\n",
       "    </tr>\n",
       "    <tr>\n",
       "      <th>11</th>\n",
       "      <td>12</td>\n",
       "      <td>1</td>\n",
       "      <td>1</td>\n",
       "      <td>Bonnell, Miss. Elizabeth</td>\n",
       "      <td>female</td>\n",
       "      <td>58.0</td>\n",
       "      <td>0</td>\n",
       "      <td>0</td>\n",
       "      <td>113783</td>\n",
       "      <td>26.5500</td>\n",
       "      <td>C103</td>\n",
       "      <td>S</td>\n",
       "    </tr>\n",
       "  </tbody>\n",
       "</table>\n",
       "</div>"
      ],
      "text/plain": [
       "    PassengerId  Survived  Pclass  \\\n",
       "1             2         1       1   \n",
       "2             3         1       3   \n",
       "3             4         1       1   \n",
       "8             9         1       3   \n",
       "11           12         1       1   \n",
       "\n",
       "                                                 Name     Sex   Age  SibSp  \\\n",
       "1   Cumings, Mrs. John Bradley (Florence Briggs Th...  female  38.0      1   \n",
       "2                              Heikkinen, Miss. Laina  female  26.0      0   \n",
       "3        Futrelle, Mrs. Jacques Heath (Lily May Peel)  female  35.0      1   \n",
       "8   Johnson, Mrs. Oscar W (Elisabeth Vilhelmina Berg)  female  27.0      0   \n",
       "11                           Bonnell, Miss. Elizabeth  female  58.0      0   \n",
       "\n",
       "    Parch            Ticket     Fare Cabin Embarked  \n",
       "1       0          PC 17599  71.2833   C85        C  \n",
       "2       0  STON/O2. 3101282   7.9250   NaN        S  \n",
       "3       0            113803  53.1000  C123        S  \n",
       "8       2            347742  11.1333   NaN        S  \n",
       "11      0            113783  26.5500  C103        S  "
      ]
     },
     "execution_count": 25,
     "metadata": {},
     "output_type": "execute_result"
    }
   ],
   "source": [
    "df[(df.Sex=='female')&(df.Age>=18)].head()"
   ]
  },
  {
   "cell_type": "markdown",
   "id": "f9ce25e9",
   "metadata": {
    "papermill": {
     "duration": 0.020956,
     "end_time": "2023-01-19T11:57:54.928177",
     "exception": false,
     "start_time": "2023-01-19T11:57:54.907221",
     "status": "completed"
    },
    "tags": []
   },
   "source": [
    "Hayatta kalan ve 17 yaşından büyük olan erkeklerin verilerini görmek için:"
   ]
  },
  {
   "cell_type": "code",
   "execution_count": 26,
   "id": "923645a6",
   "metadata": {
    "execution": {
     "iopub.execute_input": "2023-01-19T11:57:54.971762Z",
     "iopub.status.busy": "2023-01-19T11:57:54.971093Z",
     "iopub.status.idle": "2023-01-19T11:57:54.980439Z",
     "shell.execute_reply": "2023-01-19T11:57:54.979081Z"
    },
    "papermill": {
     "duration": 0.033953,
     "end_time": "2023-01-19T11:57:54.982833",
     "exception": false,
     "start_time": "2023-01-19T11:57:54.948880",
     "status": "completed"
    },
    "tags": []
   },
   "outputs": [
    {
     "data": {
      "text/plain": [
       "0.17721518987341772"
      ]
     },
     "execution_count": 26,
     "metadata": {},
     "output_type": "execute_result"
    }
   ],
   "source": [
    "df.Survived[(df.Sex=='male')&(df.Age>=18)].mean()"
   ]
  },
  {
   "cell_type": "markdown",
   "id": "b3bd8672",
   "metadata": {
    "papermill": {
     "duration": 0.02056,
     "end_time": "2023-01-19T11:57:55.023445",
     "exception": false,
     "start_time": "2023-01-19T11:57:55.002885",
     "status": "completed"
    },
    "tags": []
   },
   "source": [
    "# Sonuç olarak\n",
    "Veri nasıl filitrelenir öğrendin\n",
    "\n",
    "\n",
    "**Tebrik ederim! 🎉🎈🎁**\n",
    "\n",
    "\n",
    "Şimdi veriler nasıl görselleştirilir bunu öğrenmelisin!\n",
    "\n",
    "\n",
    "## Beklemede kalın!\n",
    "\n",
    "\n",
    "### **\"Verlierle nasıl makyaj yapılır\"** yazımız gelicek!"
   ]
  },
  {
   "cell_type": "markdown",
   "id": "494e4247",
   "metadata": {
    "papermill": {
     "duration": 0.019478,
     "end_time": "2023-01-19T11:57:55.063745",
     "exception": false,
     "start_time": "2023-01-19T11:57:55.044267",
     "status": "completed"
    },
    "tags": []
   },
   "source": [
    "---\n",
    "## Yazar:\n",
    "\n",
    "\n",
    "# Ahmet Talha Bektaş\n",
    "> 📧 [E-mail Hesabım](mailto:atalhabektas@gmail.com)\n",
    "\n",
    "> 🔗 [LinkedIn Hesabım](https://www.linkedin.com/in/ahmet-talha-bekta%C5%9F-056844216)\n",
    "\n",
    "> 💻 [GitHub Hesabım](https://github.com/ahmettalhabektastr)\n",
    "\n",
    "> 👨‍💻 [Kaggle Hesabım](https://www.kaggle.com/ahmettalhabektastr)\n",
    "\n",
    "> 📋 [Medium Hesabım](https://medium.com/@ahmettalhabektas_tr)"
   ]
  }
 ],
 "metadata": {
  "kernelspec": {
   "display_name": "Python 3",
   "language": "python",
   "name": "python3"
  },
  "language_info": {
   "codemirror_mode": {
    "name": "ipython",
    "version": 3
   },
   "file_extension": ".py",
   "mimetype": "text/x-python",
   "name": "python",
   "nbconvert_exporter": "python",
   "pygments_lexer": "ipython3",
   "version": "3.7.12"
  },
  "papermill": {
   "default_parameters": {},
   "duration": 14.827353,
   "end_time": "2023-01-19T11:57:55.807969",
   "environment_variables": {},
   "exception": null,
   "input_path": "__notebook__.ipynb",
   "output_path": "__notebook__.ipynb",
   "parameters": {},
   "start_time": "2023-01-19T11:57:40.980616",
   "version": "2.3.4"
  }
 },
 "nbformat": 4,
 "nbformat_minor": 5
}
